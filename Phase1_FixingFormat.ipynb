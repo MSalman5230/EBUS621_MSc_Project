{
 "cells": [
  {
   "cell_type": "code",
   "execution_count": 1,
   "metadata": {},
   "outputs": [],
   "source": [
    "import math\n",
    "import numpy as np\n",
    "import pandas as pd"
   ]
  },
  {
   "cell_type": "code",
   "execution_count": 3,
   "metadata": {},
   "outputs": [],
   "source": [
    "df = pd.read_csv('Datasets/Southampton_vessel_arrivals_from_4July2020_5Oct2021_for_student.csv')# Write your code for importing the csv file here\n"
   ]
  },
  {
   "cell_type": "code",
   "execution_count": 4,
   "metadata": {},
   "outputs": [],
   "source": [
    "df = df.drop(df[df.ETA == 'ETA'].index) #Droping Multiple ETA Heading\n",
    "df.dropna(subset=['ETA'], inplace=True) #Droping Rows with no ETA Value\n",
    "df['ETA'] = df['ETA'].str.strip() #Removing Multiple Space from ETA \n",
    "df['ETD'] = df['ETD'].str.strip() #Removing Multiple Space from ETD "
   ]
  },
  {
   "cell_type": "code",
   "execution_count": 5,
   "metadata": {},
   "outputs": [],
   "source": [
    "# Integrade Date and time in a single line for ETA and ETD, Also Ref as They are in Spread across 2 rows\n",
    "num_rows = df.shape[0]\n",
    "i = 0\n",
    "while i<num_rows:\n",
    "  if len(df.iloc[i,3]) < 13: #do appending\n",
    "    #print(len(df.iloc[i,3]),df.iloc[i,3])\n",
    "    df.iloc[i,3] = df.iloc[i,3] + ' ' + df.iloc[i+1,3] #ETA #This just Read i+1 row and add the value of i+1 row to i row\n",
    "    df.iloc[i,6] = df.iloc[i,6] + ' ' + df.iloc[i+1,6] #ETD\n",
    "    df.iloc[i,8] = df.iloc[i,8] + ' ' + df.iloc[i+1,8] #Ref\n",
    "    i += 2\n",
    "  else: #do nothing\n",
    "    i += 1\n"
   ]
  },
  {
   "cell_type": "code",
   "execution_count": 6,
   "metadata": {},
   "outputs": [],
   "source": [
    "#remove rows with ETA/ETD time field only\n",
    "df.dropna(inplace=True) #remove rows with non value and save,\n",
    "\n",
    "df['Ref'] = df['Ref'].str.strip() #Removing Multiple Space from Ref\n",
    "df['Ref'] = df['Ref'].str.replace(' ', '')\n",
    "\n",
    "df.sort_values(['Recording'], ascending=[True], inplace=True)\n",
    "df.reset_index(drop=True, inplace=True) # Reset Index to fix the Index after droping row with only Time value\n",
    "df['SN_No.'] = df.index\n",
    "\n",
    "\n"
   ]
  },
  {
   "cell_type": "code",
   "execution_count": 7,
   "metadata": {},
   "outputs": [],
   "source": [
    "df.to_csv(r'Datasets/Southampton_vessels_Fixed_Formating.csv', index = False, header = True)"
   ]
  },
  {
   "cell_type": "code",
   "execution_count": null,
   "metadata": {},
   "outputs": [],
   "source": []
  }
 ],
 "metadata": {
  "interpreter": {
   "hash": "234055e6463c59fef548f863acbd3083e6c1072752b8dc925adf2f10a3fa232d"
  },
  "kernelspec": {
   "display_name": "Python 3.9.7 64-bit",
   "name": "python3"
  },
  "language_info": {
   "codemirror_mode": {
    "name": "ipython",
    "version": 3
   },
   "file_extension": ".py",
   "mimetype": "text/x-python",
   "name": "python",
   "nbconvert_exporter": "python",
   "pygments_lexer": "ipython3",
   "version": "3.9.7"
  },
  "orig_nbformat": 4
 },
 "nbformat": 4,
 "nbformat_minor": 2
}
