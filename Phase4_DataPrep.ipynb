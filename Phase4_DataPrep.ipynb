{
 "cells": [
  {
   "cell_type": "code",
   "execution_count": 1,
   "metadata": {},
   "outputs": [],
   "source": [
    "import math\n",
    "import numpy as np\n",
    "import pandas as pd\n",
    "from datetime import datetime\n",
    "import seaborn as sns\n",
    "import matplotlib.pyplot as plt\n",
    "from sklearn.preprocessing import OrdinalEncoder\n",
    "from sklearn.preprocessing import OneHotEncoder\n",
    "from sklearn import preprocessing\n",
    "from sklearn.metrics import confusion_matrix\n",
    "from sklearn import metrics\n",
    "\n"
   ]
  },
  {
   "cell_type": "code",
   "execution_count": 2,
   "metadata": {},
   "outputs": [],
   "source": [
    "df = pd.read_csv('Datasets/Vessel_Detail_Merged.csv')\n"
   ]
  },
  {
   "cell_type": "code",
   "execution_count": 3,
   "metadata": {},
   "outputs": [],
   "source": [
    "df['ETA']= pd.to_datetime(df['ETA'],format=\"%Y-%m-%d %H:%M\")\n",
    "df['ATA']= pd.to_datetime(df['ATA'],format=\"%Y-%m-%d %H:%M\")\n",
    "\n",
    "df = df.rename(columns={'Built': 'Built_Year','Month': 'Built_Month', 'Next port of call': 'NextPort', 'Side to': 'Side', 'Owner Group': 'Owner' })\n",
    "df['NextPort'] = df['NextPort'].str.split(',').str[0]"
   ]
  },
  {
   "cell_type": "code",
   "execution_count": 4,
   "metadata": {},
   "outputs": [
    {
     "name": "stdout",
     "output_type": "stream",
     "text": [
      "<class 'pandas.core.frame.DataFrame'>\n",
      "RangeIndex: 882 entries, 0 to 881\n",
      "Data columns (total 22 columns):\n",
      " #   Column                Non-Null Count  Dtype         \n",
      "---  ------                --------------  -----         \n",
      " 0   Ship_ID               882 non-null    object        \n",
      " 1   Vessel_Name           882 non-null    object        \n",
      " 2   Service               882 non-null    object        \n",
      " 3   ETA                   882 non-null    datetime64[ns]\n",
      " 4   ATA                   882 non-null    datetime64[ns]\n",
      " 5   Berth                 882 non-null    object        \n",
      " 6   Side                  882 non-null    object        \n",
      " 7   NextPort              882 non-null    object        \n",
      " 8   Ref                   882 non-null    object        \n",
      " 9   Delay                 882 non-null    float64       \n",
      " 10  Size                  882 non-null    object        \n",
      " 11  Dwt                   882 non-null    object        \n",
      " 12  GT                    882 non-null    object        \n",
      " 13  Flag                  882 non-null    object        \n",
      " 14  Built_Year            882 non-null    float64       \n",
      " 15  Built_Month           882 non-null    float64       \n",
      " 16  Builder               882 non-null    object        \n",
      " 17  Owner                 882 non-null    object        \n",
      " 18  Alternative_Fuel      882 non-null    object        \n",
      " 19  SOx_Scrubber          882 non-null    object        \n",
      " 20  Eco_Engine            882 non-null    object        \n",
      " 21  Days_Before_ETA_Info  882 non-null    float64       \n",
      "dtypes: datetime64[ns](2), float64(4), object(16)\n",
      "memory usage: 151.7+ KB\n"
     ]
    }
   ],
   "source": [
    "df.info()"
   ]
  },
  {
   "cell_type": "code",
   "execution_count": 5,
   "metadata": {},
   "outputs": [],
   "source": [
    "df['Size'] = df['Size'].str.replace(',', '').astype('int32')\n",
    "df['Dwt'] = df['Dwt'].str.replace(',', '').astype('int32')\n",
    "df['GT'] = df['GT'].str.replace(',', '').astype('int32')\n",
    "df['Built_Year'] = df['Built_Year'].astype('int32')\n",
    "df['Built_Month'] = df['Built_Month'].astype('int32')\n",
    "\n",
    "df['SOx_Scrubber'] = df['SOx_Scrubber'].replace('Pending','0')\n",
    "df['SOx_Scrubber'] = df['SOx_Scrubber'].replace('Fitted','1')\n",
    "\n",
    "df['Eco_Engine'] = df['Eco_Engine'].replace('Eco – Electronic Engine','1')\n",
    "df['Eco_Engine'] = df['Eco_Engine'].replace('Eco – Electronic Engine Modern','1')\n",
    "\n",
    "df['Alternative_Fuel'] = df['Alternative_Fuel'].replace('LNG','1')\n",
    "df['Alternative_Fuel'] = df['Alternative_Fuel'].replace('Biofuel','1')\n"
   ]
  },
  {
   "cell_type": "code",
   "execution_count": 6,
   "metadata": {},
   "outputs": [
    {
     "data": {
      "text/html": [
       "<div>\n",
       "<style scoped>\n",
       "    .dataframe tbody tr th:only-of-type {\n",
       "        vertical-align: middle;\n",
       "    }\n",
       "\n",
       "    .dataframe tbody tr th {\n",
       "        vertical-align: top;\n",
       "    }\n",
       "\n",
       "    .dataframe thead th {\n",
       "        text-align: right;\n",
       "    }\n",
       "</style>\n",
       "<table border=\"1\" class=\"dataframe\">\n",
       "  <thead>\n",
       "    <tr style=\"text-align: right;\">\n",
       "      <th></th>\n",
       "      <th>Delay</th>\n",
       "      <th>Size</th>\n",
       "      <th>Dwt</th>\n",
       "      <th>GT</th>\n",
       "      <th>Built_Year</th>\n",
       "      <th>Built_Month</th>\n",
       "      <th>Days_Before_ETA_Info</th>\n",
       "    </tr>\n",
       "  </thead>\n",
       "  <tbody>\n",
       "    <tr>\n",
       "      <th>Delay</th>\n",
       "      <td>1.000000</td>\n",
       "      <td>0.106145</td>\n",
       "      <td>0.091501</td>\n",
       "      <td>0.096932</td>\n",
       "      <td>0.112002</td>\n",
       "      <td>-0.002159</td>\n",
       "      <td>0.147549</td>\n",
       "    </tr>\n",
       "    <tr>\n",
       "      <th>Size</th>\n",
       "      <td>0.106145</td>\n",
       "      <td>1.000000</td>\n",
       "      <td>0.992812</td>\n",
       "      <td>0.996367</td>\n",
       "      <td>0.734371</td>\n",
       "      <td>-0.085583</td>\n",
       "      <td>0.201510</td>\n",
       "    </tr>\n",
       "    <tr>\n",
       "      <th>Dwt</th>\n",
       "      <td>0.091501</td>\n",
       "      <td>0.992812</td>\n",
       "      <td>1.000000</td>\n",
       "      <td>0.994756</td>\n",
       "      <td>0.726223</td>\n",
       "      <td>-0.090019</td>\n",
       "      <td>0.209266</td>\n",
       "    </tr>\n",
       "    <tr>\n",
       "      <th>GT</th>\n",
       "      <td>0.096932</td>\n",
       "      <td>0.996367</td>\n",
       "      <td>0.994756</td>\n",
       "      <td>1.000000</td>\n",
       "      <td>0.727166</td>\n",
       "      <td>-0.086310</td>\n",
       "      <td>0.210235</td>\n",
       "    </tr>\n",
       "    <tr>\n",
       "      <th>Built_Year</th>\n",
       "      <td>0.112002</td>\n",
       "      <td>0.734371</td>\n",
       "      <td>0.726223</td>\n",
       "      <td>0.727166</td>\n",
       "      <td>1.000000</td>\n",
       "      <td>-0.060299</td>\n",
       "      <td>0.096699</td>\n",
       "    </tr>\n",
       "    <tr>\n",
       "      <th>Built_Month</th>\n",
       "      <td>-0.002159</td>\n",
       "      <td>-0.085583</td>\n",
       "      <td>-0.090019</td>\n",
       "      <td>-0.086310</td>\n",
       "      <td>-0.060299</td>\n",
       "      <td>1.000000</td>\n",
       "      <td>0.016116</td>\n",
       "    </tr>\n",
       "    <tr>\n",
       "      <th>Days_Before_ETA_Info</th>\n",
       "      <td>0.147549</td>\n",
       "      <td>0.201510</td>\n",
       "      <td>0.209266</td>\n",
       "      <td>0.210235</td>\n",
       "      <td>0.096699</td>\n",
       "      <td>0.016116</td>\n",
       "      <td>1.000000</td>\n",
       "    </tr>\n",
       "  </tbody>\n",
       "</table>\n",
       "</div>"
      ],
      "text/plain": [
       "                         Delay      Size       Dwt        GT  Built_Year  \\\n",
       "Delay                 1.000000  0.106145  0.091501  0.096932    0.112002   \n",
       "Size                  0.106145  1.000000  0.992812  0.996367    0.734371   \n",
       "Dwt                   0.091501  0.992812  1.000000  0.994756    0.726223   \n",
       "GT                    0.096932  0.996367  0.994756  1.000000    0.727166   \n",
       "Built_Year            0.112002  0.734371  0.726223  0.727166    1.000000   \n",
       "Built_Month          -0.002159 -0.085583 -0.090019 -0.086310   -0.060299   \n",
       "Days_Before_ETA_Info  0.147549  0.201510  0.209266  0.210235    0.096699   \n",
       "\n",
       "                      Built_Month  Days_Before_ETA_Info  \n",
       "Delay                   -0.002159              0.147549  \n",
       "Size                    -0.085583              0.201510  \n",
       "Dwt                     -0.090019              0.209266  \n",
       "GT                      -0.086310              0.210235  \n",
       "Built_Year              -0.060299              0.096699  \n",
       "Built_Month              1.000000              0.016116  \n",
       "Days_Before_ETA_Info     0.016116              1.000000  "
      ]
     },
     "execution_count": 6,
     "metadata": {},
     "output_type": "execute_result"
    }
   ],
   "source": [
    "df.corr()"
   ]
  },
  {
   "cell_type": "code",
   "execution_count": 7,
   "metadata": {},
   "outputs": [],
   "source": [
    "#df.drop(['Dwt', 'Size', 'Ref'], axis=1,inplace=True)\n",
    "df.drop(['Ref'], axis=1,inplace=True)"
   ]
  },
  {
   "cell_type": "code",
   "execution_count": 8,
   "metadata": {},
   "outputs": [],
   "source": [
    "df['ETA_Year'] = df['ETA'].dt.year\n",
    "df['ETA_Month'] = df['ETA'].dt.month\n",
    "df['ETA_Day'] = df['ETA'].dt.day\n",
    "df['ETA_Weekday'] = df['ETA'].dt.weekday\n",
    "df['ETA_Hour'] = df['ETA'].dt.hour\n",
    "\n",
    "\n"
   ]
  },
  {
   "cell_type": "code",
   "execution_count": 9,
   "metadata": {},
   "outputs": [],
   "source": [
    "#df2=df[df['ETA_Month'] == 2]\n",
    "\n"
   ]
  },
  {
   "cell_type": "code",
   "execution_count": 10,
   "metadata": {},
   "outputs": [
    {
     "data": {
      "text/plain": [
       "210"
      ]
     },
     "execution_count": 10,
     "metadata": {},
     "output_type": "execute_result"
    }
   ],
   "source": [
    "df['Vessel_Name'].nunique()"
   ]
  },
  {
   "cell_type": "code",
   "execution_count": 11,
   "metadata": {},
   "outputs": [
    {
     "name": "stdout",
     "output_type": "stream",
     "text": [
      "<class 'pandas.core.frame.DataFrame'>\n",
      "RangeIndex: 882 entries, 0 to 881\n",
      "Data columns (total 26 columns):\n",
      " #   Column                Non-Null Count  Dtype         \n",
      "---  ------                --------------  -----         \n",
      " 0   Ship_ID               882 non-null    object        \n",
      " 1   Vessel_Name           882 non-null    object        \n",
      " 2   Service               882 non-null    object        \n",
      " 3   ETA                   882 non-null    datetime64[ns]\n",
      " 4   ATA                   882 non-null    datetime64[ns]\n",
      " 5   Berth                 882 non-null    object        \n",
      " 6   Side                  882 non-null    object        \n",
      " 7   NextPort              882 non-null    object        \n",
      " 8   Delay                 882 non-null    float64       \n",
      " 9   Size                  882 non-null    int32         \n",
      " 10  Dwt                   882 non-null    int32         \n",
      " 11  GT                    882 non-null    int32         \n",
      " 12  Flag                  882 non-null    object        \n",
      " 13  Built_Year            882 non-null    int32         \n",
      " 14  Built_Month           882 non-null    int32         \n",
      " 15  Builder               882 non-null    object        \n",
      " 16  Owner                 882 non-null    object        \n",
      " 17  Alternative_Fuel      882 non-null    object        \n",
      " 18  SOx_Scrubber          882 non-null    object        \n",
      " 19  Eco_Engine            882 non-null    object        \n",
      " 20  Days_Before_ETA_Info  882 non-null    float64       \n",
      " 21  ETA_Year              882 non-null    int64         \n",
      " 22  ETA_Month             882 non-null    int64         \n",
      " 23  ETA_Day               882 non-null    int64         \n",
      " 24  ETA_Weekday           882 non-null    int64         \n",
      " 25  ETA_Hour              882 non-null    int64         \n",
      "dtypes: datetime64[ns](2), float64(2), int32(5), int64(5), object(12)\n",
      "memory usage: 162.1+ KB\n"
     ]
    }
   ],
   "source": [
    "df.info()"
   ]
  },
  {
   "cell_type": "code",
   "execution_count": 12,
   "metadata": {},
   "outputs": [],
   "source": [
    "#To Preserve the cycle nature of Month, both sine and cosine are need, usefull in NN\n",
    "\n",
    "#df['ETA_Month_sine'] = np.sin(2 * np.pi * df['ETA_Month']/11.0)\n"
   ]
  },
  {
   "cell_type": "code",
   "execution_count": 13,
   "metadata": {},
   "outputs": [],
   "source": [
    "df_covid = pd.read_csv('Datasets/UK_Covid.csv')\n",
    "df_covid['date']= pd.to_datetime(df_covid['date'],format=\"%d-%m-%y\")\n",
    "\n",
    "df_covid.drop(['iso_code'] ,axis=1, inplace=True)\n",
    "df_covid.drop(['continent'] ,axis=1, inplace=True)\n",
    "df_covid.drop(['location'] ,axis=1, inplace=True)\n",
    "df_covid.drop(['Year'] ,axis=1, inplace=True)\n",
    "df_covid.drop(['Quarter'] ,axis=1, inplace=True)\n",
    "df_covid.drop(['Month'] ,axis=1, inplace=True)\n",
    "df_covid.drop(['total_cases'] ,axis=1, inplace=True)\n",
    "#df_covid.drop(['date'] ,axis=1, inplace=True)\n",
    "\n",
    "df_covid.set_index('date',inplace=True)\n",
    "df_covid=df_covid.groupby(pd.Grouper(freq=\"M\")).sum()\n",
    "df_covid.reset_index(inplace=True)\n",
    "\n",
    "df_covid['date'] = df_covid['date'].dt.strftime('%Y-%m')\n",
    "df['ETA'] = df['ETA'].dt.strftime('%Y-%m')\n",
    "df_Month= pd.merge(df, df_covid, how='left', left_on='ETA',right_on='date')\n"
   ]
  },
  {
   "cell_type": "code",
   "execution_count": 15,
   "metadata": {},
   "outputs": [],
   "source": [
    "df_Month.to_csv(r'Datasets/DF_ML_Ready.csv', index = False, header = True)"
   ]
  },
  {
   "cell_type": "code",
   "execution_count": null,
   "metadata": {},
   "outputs": [],
   "source": [
    "df_covid = pd.read_csv('Datasets/UK_Covid.csv')\n",
    "df_covid['date']= pd.to_datetime(df_covid['date'],format=\"%d-%m-%y\")\n",
    "df['ETA']= pd.to_datetime(df['ETA'],format=\"%y-%m\")\n",
    "\n",
    "df_covid.drop(['iso_code'] ,axis=1, inplace=True)\n",
    "df_covid.drop(['continent'] ,axis=1, inplace=True)\n",
    "df_covid.drop(['location'] ,axis=1, inplace=True)\n",
    "df_covid.drop(['Year'] ,axis=1, inplace=True)\n",
    "df_covid.drop(['Quarter'] ,axis=1, inplace=True)\n",
    "df_covid.drop(['Month'] ,axis=1, inplace=True)\n",
    "df_covid.drop(['total_cases'] ,axis=1, inplace=True)\n",
    "#df_covid.drop(['date'] ,axis=1, inplace=True)\n",
    "\n",
    "df_covid.set_index('date',inplace=True)\n",
    "df_covid=df_covid.groupby(pd.Grouper(freq=\"W\")).sum()\n",
    "df_covid.reset_index(inplace=True)\n",
    "\n",
    "df_covid['date'] = df_covid['date'].dt.strftime('%Y-%W')\n",
    "df['ETA'] = df['ETA'].dt.strftime('%Y-%W')\n",
    "df_week= pd.merge(df, df_covid, how='left', left_on='ETA',right_on='date')\n"
   ]
  },
  {
   "cell_type": "code",
   "execution_count": null,
   "metadata": {},
   "outputs": [],
   "source": [
    "df_week.to_csv(r'Datasets/DF_ML_Ready_WeekCases.csv', index = False, header = True)"
   ]
  },
  {
   "cell_type": "code",
   "execution_count": null,
   "metadata": {},
   "outputs": [],
   "source": [
    "\n"
   ]
  },
  {
   "cell_type": "code",
   "execution_count": null,
   "metadata": {},
   "outputs": [],
   "source": []
  }
 ],
 "metadata": {
  "interpreter": {
   "hash": "234055e6463c59fef548f863acbd3083e6c1072752b8dc925adf2f10a3fa232d"
  },
  "kernelspec": {
   "display_name": "Python 3.9.7 64-bit",
   "name": "python3"
  },
  "language_info": {
   "codemirror_mode": {
    "name": "ipython",
    "version": 3
   },
   "file_extension": ".py",
   "mimetype": "text/x-python",
   "name": "python",
   "nbconvert_exporter": "python",
   "pygments_lexer": "ipython3",
   "version": "3.9.7"
  },
  "orig_nbformat": 4
 },
 "nbformat": 4,
 "nbformat_minor": 2
}
