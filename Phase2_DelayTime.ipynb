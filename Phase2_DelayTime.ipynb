{
 "cells": [
  {
   "cell_type": "code",
   "execution_count": 1,
   "metadata": {},
   "outputs": [],
   "source": [
    "import math\n",
    "import numpy as np\n",
    "import pandas as pd\n",
    "from datetime import datetime\n"
   ]
  },
  {
   "cell_type": "code",
   "execution_count": 2,
   "metadata": {},
   "outputs": [],
   "source": [
    "#custom_date_parser = lambda x: datetime.strptime(x, \"%d-%m-%y\")\n",
    "#df = pd.read_csv('data/data_6.csv',\n",
    "#                 parse_dates=['date'],\n",
    "#                date_parser=custom_date_parser)"
   ]
  },
  {
   "cell_type": "code",
   "execution_count": 3,
   "metadata": {},
   "outputs": [],
   "source": [
    "df = pd.read_csv('Datasets/Southampton_vessels_Fixed_Formating.csv')# Write your code for importing the csv file here\n",
    "\n"
   ]
  },
  {
   "cell_type": "code",
   "execution_count": 4,
   "metadata": {},
   "outputs": [],
   "source": [
    "#df['Recording']= pd.to_datetime(df['Recording'], infer_datetime_format=True)"
   ]
  },
  {
   "cell_type": "code",
   "execution_count": 5,
   "metadata": {},
   "outputs": [],
   "source": [
    "df['ETA']= pd.to_datetime(df['ETA'],format=\"%d-%m-%y %H:%M\")\n",
    "df['ETD']= pd.to_datetime(df['ETD'],format=\"%d-%m-%y %H:%M\")\n",
    "df['Recording']= pd.to_datetime(df['Recording'], format=\"%d-%m-%y\")\n",
    "df = df.sort_values(by=\"Recording\")"
   ]
  },
  {
   "cell_type": "markdown",
   "metadata": {},
   "source": [
    "# Droping Useless Phases "
   ]
  },
  {
   "cell_type": "code",
   "execution_count": 6,
   "metadata": {},
   "outputs": [],
   "source": [
    "# Get indexes with thse value \n",
    "drop_indexNames = df[(df['Phase'] == 'CANCELED') | (df['Phase'] == 'CLOSED')  ].index \n",
    "\n",
    "# Delete these row indexes from dataFrame\n",
    "df.drop(drop_indexNames , inplace=True)\n",
    "\n",
    "df.sort_values(['Vessel Name', 'Recording'], ascending=[True, True], inplace=True)"
   ]
  },
  {
   "cell_type": "code",
   "execution_count": 7,
   "metadata": {},
   "outputs": [],
   "source": [
    "#vessel_names_arr=pd.unique(df['Vessel Name'])\n",
    "#temp_df=df[df['Vessel Name']=='NYK WREN']"
   ]
  },
  {
   "cell_type": "code",
   "execution_count": null,
   "metadata": {},
   "outputs": [],
   "source": []
  },
  {
   "cell_type": "code",
   "execution_count": 8,
   "metadata": {},
   "outputs": [],
   "source": [
    "# Converting All Phase expect Inbound to Arrived and Sorting \n",
    "df['Phase'] = df['Phase'].replace(['ARRIVED','COMPLETE','DEPARTED','WORKING'],'ARRIVED')\n",
    "df['Ship_ID']=df['Vessel Name'] +' - '+ df['Ref']\n",
    "df.sort_values(['Ship_ID', 'Recording'], ascending=[True, True], inplace=True)"
   ]
  },
  {
   "cell_type": "code",
   "execution_count": null,
   "metadata": {},
   "outputs": [],
   "source": []
  },
  {
   "cell_type": "markdown",
   "metadata": {},
   "source": [
    "# Droping Duplicates"
   ]
  },
  {
   "cell_type": "code",
   "execution_count": 9,
   "metadata": {},
   "outputs": [],
   "source": [
    "#df.drop_duplicates(subset=['Ship_ID', 'ETA','Phase','Recording'] , keep ='first', inplace=True)\n",
    "\n",
    "prev_phase='sasd'\n",
    "prev_vessel='sasd'\n",
    "\n",
    "for index, row in df.iterrows():\n",
    "\n",
    "    if prev_vessel == row['Ship_ID'] and prev_phase == row['Phase']:\n",
    "        df.drop(index , inplace=True)\n",
    "\n",
    "    prev_vessel=row['Ship_ID']\n",
    "    prev_phase=row['Phase']"
   ]
  },
  {
   "cell_type": "code",
   "execution_count": 10,
   "metadata": {},
   "outputs": [],
   "source": [
    "#Sorting and Resting Index\n",
    "\n",
    "df.sort_values(['Ship_ID', 'Recording'], ascending=[True, True], inplace=True)\n",
    "df.reset_index(drop=True,inplace=True)"
   ]
  },
  {
   "cell_type": "markdown",
   "metadata": {},
   "source": [
    "# Droping Value with No Arrived"
   ]
  },
  {
   "cell_type": "code",
   "execution_count": 11,
   "metadata": {},
   "outputs": [],
   "source": [
    "prev_phase='sasd'\n",
    "prev_vessel='sasd'\n",
    "prev_index='888888'\n",
    "for index, row in df.iterrows():\n",
    "    if (prev_vessel != row['Ship_ID'] and prev_phase=='INBOUND'):\n",
    "        df.drop(prev_index , inplace=True)\n",
    "\n",
    "\n",
    "    prev_vessel=row['Ship_ID']\n",
    "    prev_phase=row['Phase']\n",
    "    prev_index=index"
   ]
  },
  {
   "cell_type": "markdown",
   "metadata": {},
   "source": [
    "# Droping Value with No Inbound"
   ]
  },
  {
   "cell_type": "code",
   "execution_count": 12,
   "metadata": {},
   "outputs": [],
   "source": [
    "prev_vessel='sasd'\n",
    "for index, row in df.iterrows():\n",
    "    if ( prev_vessel != row['Ship_ID'] and  (row['Phase'] != 'INBOUND')):\n",
    "        df.drop(index , inplace=True)\n",
    "    \n",
    "    prev_vessel=row['Ship_ID']\n",
    "    \n",
    "df.sort_values(['Ship_ID', 'Recording'], ascending=[True, True], inplace=True)\n",
    "\n",
    "df.reset_index(drop=True,inplace=True)\n",
    "#df.drop(1596 , inplace=True)\n",
    "df.reset_index(drop=True,inplace=True)\n"
   ]
  },
  {
   "cell_type": "code",
   "execution_count": 13,
   "metadata": {},
   "outputs": [],
   "source": [
    "df.to_csv(r'Datasets/No_Duplicates_Kept_First.csv', index = False, header = True)"
   ]
  },
  {
   "cell_type": "markdown",
   "metadata": {},
   "source": [
    "# Creating ATA Colums"
   ]
  },
  {
   "cell_type": "code",
   "execution_count": null,
   "metadata": {},
   "outputs": [],
   "source": [
    "df['ATA']=np.nan\n",
    "num_rows = df.shape[0]\n",
    "i = 0\n",
    "while i<num_rows:\n",
    "    if df.iloc[i,2]=='INBOUND' and df.iloc[i+1,2] =='ARRIVED':\n",
    "        df.iloc[i,12]= df.iloc[i+1,3]\n",
    "\n",
    "    i+=2\n"
   ]
  },
  {
   "cell_type": "code",
   "execution_count": null,
   "metadata": {},
   "outputs": [],
   "source": [
    "df.dropna(inplace=True)\n",
    "df['Phase'] = df['Phase'].replace(['INBOUND'],'ARRIVED')\n",
    "df = df[['Ship_ID','Vessel Name', 'Service', 'Phase', 'ETA', 'ATA', 'Berth', 'Side to', 'ETD', 'Next port of call', 'Ref', 'Recording', 'SN_No.']] #Reording Columns\n",
    "df['ATA']= pd.to_datetime(df['ATA'],format=\"%d-%m-%y %H:%M\")"
   ]
  },
  {
   "cell_type": "code",
   "execution_count": null,
   "metadata": {},
   "outputs": [],
   "source": [
    "df['Delay'] =  df['ATA'] - df['ETA']\n",
    "\n",
    "\n",
    "df['Delay']=df['Delay'].astype('timedelta64[m]')"
   ]
  },
  {
   "cell_type": "code",
   "execution_count": null,
   "metadata": {},
   "outputs": [],
   "source": [
    "df.info()"
   ]
  },
  {
   "cell_type": "code",
   "execution_count": null,
   "metadata": {},
   "outputs": [],
   "source": [
    "df['Vessel Name'].nunique()\n",
    "\n"
   ]
  },
  {
   "cell_type": "code",
   "execution_count": null,
   "metadata": {},
   "outputs": [],
   "source": [
    "tempdf=df[df.duplicated(['Ref'], keep=False)]\n"
   ]
  },
  {
   "cell_type": "code",
   "execution_count": null,
   "metadata": {},
   "outputs": [],
   "source": [
    "df.to_csv(r'Datasets/Vessels_ETA_ATA.csv', index = False, header = True)"
   ]
  }
 ],
 "metadata": {
  "interpreter": {
   "hash": "234055e6463c59fef548f863acbd3083e6c1072752b8dc925adf2f10a3fa232d"
  },
  "kernelspec": {
   "display_name": "Python 3.9.7 64-bit",
   "name": "python3"
  },
  "language_info": {
   "codemirror_mode": {
    "name": "ipython",
    "version": 3
   },
   "file_extension": ".py",
   "mimetype": "text/x-python",
   "name": "python",
   "nbconvert_exporter": "python",
   "pygments_lexer": "ipython3",
   "version": "3.9.7"
  },
  "orig_nbformat": 4
 },
 "nbformat": 4,
 "nbformat_minor": 2
}
