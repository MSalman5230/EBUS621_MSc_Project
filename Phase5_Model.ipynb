{
 "cells": [
  {
   "cell_type": "code",
   "execution_count": 1,
   "metadata": {},
   "outputs": [],
   "source": [
    "import math\n",
    "import numpy as np\n",
    "import pandas as pd\n",
    "from datetime import datetime\n",
    "import seaborn as sns\n",
    "import matplotlib.pyplot as plt\n",
    "from sklearn.preprocessing import OrdinalEncoder\n",
    "from sklearn.preprocessing import OneHotEncoder\n",
    "from sklearn import preprocessing\n",
    "from sklearn.metrics import confusion_matrix\n",
    "from sklearn import metrics"
   ]
  },
  {
   "cell_type": "markdown",
   "metadata": {},
   "source": [
    "# Reading DF with correct datatypes"
   ]
  },
  {
   "cell_type": "code",
   "execution_count": 2,
   "metadata": {},
   "outputs": [],
   "source": [
    "df = pd.read_csv('Datasets/DF_ML_Ready.csv')\n",
    "df = pd.read_csv('Datasets/DF_ML_Ready_WeekCases.csv')\n",
    "#df['ETA']= pd.to_datetime(df['ETA'],format=\"%Y-%m-%d %H:%M\")\n",
    "#df['ATA']= pd.to_datetime(df['ATA'],format=\"%Y-%m-%d %H:%M\")\n",
    "df['Days_Before_ETA_Info'] = df['Days_Before_ETA_Info'].astype('int64')\n"
   ]
  },
  {
   "cell_type": "markdown",
   "metadata": {},
   "source": [
    "# Droping Irrelavent Coloums and Outliers"
   ]
  },
  {
   "cell_type": "code",
   "execution_count": 3,
   "metadata": {},
   "outputs": [],
   "source": [
    "df.drop(['ETA'] ,axis=1, inplace=True)\n",
    "df.drop(['ATA'] ,axis=1, inplace=True)\n",
    "#df.drop(['ETA_Day'] ,axis=1, inplace=True)\n",
    "#df.drop(['Vessel_Name'] ,axis=1, inplace=True)\n",
    "df.drop(['Ship_ID'] ,axis=1, inplace=True)\n",
    "df.drop(['date'] ,axis=1, inplace=True)\n",
    "\n",
    "df = df[df.Days_Before_ETA_Info >= 0]  #droping value for negative Days_Before_ETA_Info \n",
    "df.dropna(inplace=True)\n",
    "df.reset_index(drop=True,inplace=True)"
   ]
  },
  {
   "cell_type": "code",
   "execution_count": 4,
   "metadata": {},
   "outputs": [
    {
     "data": {
      "text/html": [
       "<div>\n",
       "<style scoped>\n",
       "    .dataframe tbody tr th:only-of-type {\n",
       "        vertical-align: middle;\n",
       "    }\n",
       "\n",
       "    .dataframe tbody tr th {\n",
       "        vertical-align: top;\n",
       "    }\n",
       "\n",
       "    .dataframe thead th {\n",
       "        text-align: right;\n",
       "    }\n",
       "</style>\n",
       "<table border=\"1\" class=\"dataframe\">\n",
       "  <thead>\n",
       "    <tr style=\"text-align: right;\">\n",
       "      <th></th>\n",
       "      <th>Delay</th>\n",
       "      <th>Built_Year</th>\n",
       "      <th>Days_Before_ETA_Info</th>\n",
       "      <th>ETA_Year</th>\n",
       "      <th>ETA_Month</th>\n",
       "      <th>ETA_Weekday</th>\n",
       "      <th>ETA_Hour</th>\n",
       "      <th>new_cases</th>\n",
       "    </tr>\n",
       "  </thead>\n",
       "  <tbody>\n",
       "    <tr>\n",
       "      <th>Delay</th>\n",
       "      <td>1.000000</td>\n",
       "      <td>0.097592</td>\n",
       "      <td>0.175204</td>\n",
       "      <td>0.112164</td>\n",
       "      <td>-0.114388</td>\n",
       "      <td>0.140029</td>\n",
       "      <td>-0.009474</td>\n",
       "      <td>0.128013</td>\n",
       "    </tr>\n",
       "    <tr>\n",
       "      <th>Built_Year</th>\n",
       "      <td>0.097592</td>\n",
       "      <td>1.000000</td>\n",
       "      <td>0.102188</td>\n",
       "      <td>-0.105458</td>\n",
       "      <td>0.007841</td>\n",
       "      <td>0.049497</td>\n",
       "      <td>0.062235</td>\n",
       "      <td>-0.028814</td>\n",
       "    </tr>\n",
       "    <tr>\n",
       "      <th>Days_Before_ETA_Info</th>\n",
       "      <td>0.175204</td>\n",
       "      <td>0.102188</td>\n",
       "      <td>1.000000</td>\n",
       "      <td>-0.086272</td>\n",
       "      <td>0.208921</td>\n",
       "      <td>0.003800</td>\n",
       "      <td>0.066587</td>\n",
       "      <td>0.187386</td>\n",
       "    </tr>\n",
       "    <tr>\n",
       "      <th>ETA_Year</th>\n",
       "      <td>0.112164</td>\n",
       "      <td>-0.105458</td>\n",
       "      <td>-0.086272</td>\n",
       "      <td>1.000000</td>\n",
       "      <td>-0.687369</td>\n",
       "      <td>0.067647</td>\n",
       "      <td>-0.004279</td>\n",
       "      <td>0.300959</td>\n",
       "    </tr>\n",
       "    <tr>\n",
       "      <th>ETA_Month</th>\n",
       "      <td>-0.114388</td>\n",
       "      <td>0.007841</td>\n",
       "      <td>0.208921</td>\n",
       "      <td>-0.687369</td>\n",
       "      <td>1.000000</td>\n",
       "      <td>-0.021412</td>\n",
       "      <td>-0.038607</td>\n",
       "      <td>0.044926</td>\n",
       "    </tr>\n",
       "    <tr>\n",
       "      <th>ETA_Weekday</th>\n",
       "      <td>0.140029</td>\n",
       "      <td>0.049497</td>\n",
       "      <td>0.003800</td>\n",
       "      <td>0.067647</td>\n",
       "      <td>-0.021412</td>\n",
       "      <td>1.000000</td>\n",
       "      <td>-0.023286</td>\n",
       "      <td>0.106013</td>\n",
       "    </tr>\n",
       "    <tr>\n",
       "      <th>ETA_Hour</th>\n",
       "      <td>-0.009474</td>\n",
       "      <td>0.062235</td>\n",
       "      <td>0.066587</td>\n",
       "      <td>-0.004279</td>\n",
       "      <td>-0.038607</td>\n",
       "      <td>-0.023286</td>\n",
       "      <td>1.000000</td>\n",
       "      <td>-0.046357</td>\n",
       "    </tr>\n",
       "    <tr>\n",
       "      <th>new_cases</th>\n",
       "      <td>0.128013</td>\n",
       "      <td>-0.028814</td>\n",
       "      <td>0.187386</td>\n",
       "      <td>0.300959</td>\n",
       "      <td>0.044926</td>\n",
       "      <td>0.106013</td>\n",
       "      <td>-0.046357</td>\n",
       "      <td>1.000000</td>\n",
       "    </tr>\n",
       "  </tbody>\n",
       "</table>\n",
       "</div>"
      ],
      "text/plain": [
       "                         Delay  Built_Year  Days_Before_ETA_Info  ETA_Year  \\\n",
       "Delay                 1.000000    0.097592              0.175204  0.112164   \n",
       "Built_Year            0.097592    1.000000              0.102188 -0.105458   \n",
       "Days_Before_ETA_Info  0.175204    0.102188              1.000000 -0.086272   \n",
       "ETA_Year              0.112164   -0.105458             -0.086272  1.000000   \n",
       "ETA_Month            -0.114388    0.007841              0.208921 -0.687369   \n",
       "ETA_Weekday           0.140029    0.049497              0.003800  0.067647   \n",
       "ETA_Hour             -0.009474    0.062235              0.066587 -0.004279   \n",
       "new_cases             0.128013   -0.028814              0.187386  0.300959   \n",
       "\n",
       "                      ETA_Month  ETA_Weekday  ETA_Hour  new_cases  \n",
       "Delay                 -0.114388     0.140029 -0.009474   0.128013  \n",
       "Built_Year             0.007841     0.049497  0.062235  -0.028814  \n",
       "Days_Before_ETA_Info   0.208921     0.003800  0.066587   0.187386  \n",
       "ETA_Year              -0.687369     0.067647 -0.004279   0.300959  \n",
       "ETA_Month              1.000000    -0.021412 -0.038607   0.044926  \n",
       "ETA_Weekday           -0.021412     1.000000 -0.023286   0.106013  \n",
       "ETA_Hour              -0.038607    -0.023286  1.000000  -0.046357  \n",
       "new_cases              0.044926     0.106013 -0.046357   1.000000  "
      ]
     },
     "execution_count": 4,
     "metadata": {},
     "output_type": "execute_result"
    }
   ],
   "source": [
    "df[['Delay', 'Built_Year', 'Days_Before_ETA_Info', 'ETA_Year', 'ETA_Month', 'ETA_Weekday','ETA_Hour','new_cases']].corr()\n",
    "#df[['Delay','Size', 'Dwt', 'Size']].corr()"
   ]
  },
  {
   "cell_type": "code",
   "execution_count": 5,
   "metadata": {},
   "outputs": [],
   "source": [
    "#Converting to days and rouding.\n",
    "df['Delay']=df['Delay']/60\n",
    "#df['Delay']=df['Delay']/24\n",
    "#df['Delay']=df['Delay']/1440 #60*24\n",
    "\n",
    "df['Delay']=df['Delay'].round(0)"
   ]
  },
  {
   "cell_type": "markdown",
   "metadata": {},
   "source": [
    "# Ploting to vizualize relation between X_Features and Delay"
   ]
  },
  {
   "cell_type": "code",
   "execution_count": 6,
   "metadata": {},
   "outputs": [
    {
     "data": {
      "image/png": "[encoded data removed]",
      "text/plain": [
       "<Figure size 360x360 with 1 Axes>"
      ]
     },
     "metadata": {
      "needs_background": "light"
     },
     "output_type": "display_data"
    }
   ],
   "source": [
    "sns.lmplot(x=\"Built_Year\", y=\"Size\", data=df);"
   ]
  },
  {
   "cell_type": "code",
   "execution_count": 7,
   "metadata": {},
   "outputs": [
    {
     "data": {
      "image/png": "[encoded data removed]",
      "text/plain": [
       "<Figure size 360x360 with 1 Axes>"
      ]
     },
     "metadata": {
      "needs_background": "light"
     },
     "output_type": "display_data"
    }
   ],
   "source": [
    "sns.lmplot(x=\"new_cases\", y=\"Delay\", data=df);"
   ]
  },
  {
   "cell_type": "code",
   "execution_count": 8,
   "metadata": {},
   "outputs": [
    {
     "data": {
      "image/png": "[encoded data removed]",
      "text/plain": [
       "<Figure size 360x360 with 1 Axes>"
      ]
     },
     "metadata": {
      "needs_background": "light"
     },
     "output_type": "display_data"
    }
   ],
   "source": [
    "sns.lmplot(x=\"Days_Before_ETA_Info\", y=\"Delay\", data=df);"
   ]
  },
  {
   "cell_type": "code",
   "execution_count": 9,
   "metadata": {},
   "outputs": [
    {
     "data": {
      "text/plain": [
       "<AxesSubplot:xlabel='Berth', ylabel='Size'>"
      ]
     },
     "execution_count": 9,
     "metadata": {},
     "output_type": "execute_result"
    },
    {
     "data": {
      "image/png": "[encoded data removed]",
      "text/plain": [
       "<Figure size 1224x792 with 1 Axes>"
      ]
     },
     "metadata": {
      "needs_background": "light"
     },
     "output_type": "display_data"
    }
   ],
   "source": [
    "my_order = df.groupby(\"Berth\")[\"Size\"].mean().fillna(0).sort_values()[::-1].index\n",
    "%matplotlib inline\n",
    "plt.figure(figsize=(17, 11))\n",
    "\n",
    "sns.boxplot(x=\"Berth\", y=\"Size\", data=df,order=my_order)"
   ]
  },
  {
   "cell_type": "code",
   "execution_count": 10,
   "metadata": {},
   "outputs": [
    {
     "data": {
      "text/plain": [
       "<AxesSubplot:xlabel='Service', ylabel='NextPort'>"
      ]
     },
     "execution_count": 10,
     "metadata": {},
     "output_type": "execute_result"
    },
    {
     "data": {
      "image/png": "[encoded data removed]",
      "text/plain": [
       "<Figure size 1440x792 with 1 Axes>"
      ]
     },
     "metadata": {
      "needs_background": "light"
     },
     "output_type": "display_data"
    }
   ],
   "source": [
    "%matplotlib inline\n",
    "plt.figure(figsize=(20, 11))\n",
    "sns.scatterplot(x=\"Service\", y=\"NextPort\", data=df)\n"
   ]
  },
  {
   "cell_type": "code",
   "execution_count": 11,
   "metadata": {},
   "outputs": [
    {
     "data": {
      "text/html": [
       "<div>\n",
       "<style scoped>\n",
       "    .dataframe tbody tr th:only-of-type {\n",
       "        vertical-align: middle;\n",
       "    }\n",
       "\n",
       "    .dataframe tbody tr th {\n",
       "        vertical-align: top;\n",
       "    }\n",
       "\n",
       "    .dataframe thead th {\n",
       "        text-align: right;\n",
       "    }\n",
       "</style>\n",
       "<table border=\"1\" class=\"dataframe\">\n",
       "  <thead>\n",
       "    <tr style=\"text-align: right;\">\n",
       "      <th></th>\n",
       "      <th>Delay</th>\n",
       "      <th>Size</th>\n",
       "      <th>Built_Year</th>\n",
       "      <th>Built_Month</th>\n",
       "      <th>Days_Before_ETA_Info</th>\n",
       "      <th>ETA_Year</th>\n",
       "      <th>ETA_Month</th>\n",
       "      <th>ETA_Day</th>\n",
       "      <th>ETA_Weekday</th>\n",
       "      <th>ETA_Hour</th>\n",
       "      <th>new_cases</th>\n",
       "    </tr>\n",
       "  </thead>\n",
       "  <tbody>\n",
       "    <tr>\n",
       "      <th>Delay</th>\n",
       "      <td>1.000000</td>\n",
       "      <td>0.087152</td>\n",
       "      <td>0.097646</td>\n",
       "      <td>0.008392</td>\n",
       "      <td>0.175165</td>\n",
       "      <td>0.112284</td>\n",
       "      <td>-0.114431</td>\n",
       "      <td>-0.068592</td>\n",
       "      <td>0.140045</td>\n",
       "      <td>-0.009393</td>\n",
       "      <td>0.128044</td>\n",
       "    </tr>\n",
       "    <tr>\n",
       "      <th>Size</th>\n",
       "      <td>0.087152</td>\n",
       "      <td>1.000000</td>\n",
       "      <td>0.732369</td>\n",
       "      <td>-0.085304</td>\n",
       "      <td>0.209906</td>\n",
       "      <td>-0.078108</td>\n",
       "      <td>0.018078</td>\n",
       "      <td>-0.020140</td>\n",
       "      <td>0.063482</td>\n",
       "      <td>0.159799</td>\n",
       "      <td>-0.009551</td>\n",
       "    </tr>\n",
       "    <tr>\n",
       "      <th>Built_Year</th>\n",
       "      <td>0.097646</td>\n",
       "      <td>0.732369</td>\n",
       "      <td>1.000000</td>\n",
       "      <td>-0.058841</td>\n",
       "      <td>0.102188</td>\n",
       "      <td>-0.105458</td>\n",
       "      <td>0.007841</td>\n",
       "      <td>-0.045059</td>\n",
       "      <td>0.049497</td>\n",
       "      <td>0.062235</td>\n",
       "      <td>-0.028814</td>\n",
       "    </tr>\n",
       "    <tr>\n",
       "      <th>Built_Month</th>\n",
       "      <td>0.008392</td>\n",
       "      <td>-0.085304</td>\n",
       "      <td>-0.058841</td>\n",
       "      <td>1.000000</td>\n",
       "      <td>0.010697</td>\n",
       "      <td>-0.024297</td>\n",
       "      <td>0.010631</td>\n",
       "      <td>-0.011925</td>\n",
       "      <td>-0.049604</td>\n",
       "      <td>-0.016479</td>\n",
       "      <td>-0.039625</td>\n",
       "    </tr>\n",
       "    <tr>\n",
       "      <th>Days_Before_ETA_Info</th>\n",
       "      <td>0.175165</td>\n",
       "      <td>0.209906</td>\n",
       "      <td>0.102188</td>\n",
       "      <td>0.010697</td>\n",
       "      <td>1.000000</td>\n",
       "      <td>-0.086272</td>\n",
       "      <td>0.208921</td>\n",
       "      <td>-0.002713</td>\n",
       "      <td>0.003800</td>\n",
       "      <td>0.066587</td>\n",
       "      <td>0.187386</td>\n",
       "    </tr>\n",
       "    <tr>\n",
       "      <th>ETA_Year</th>\n",
       "      <td>0.112284</td>\n",
       "      <td>-0.078108</td>\n",
       "      <td>-0.105458</td>\n",
       "      <td>-0.024297</td>\n",
       "      <td>-0.086272</td>\n",
       "      <td>1.000000</td>\n",
       "      <td>-0.687369</td>\n",
       "      <td>-0.021448</td>\n",
       "      <td>0.067647</td>\n",
       "      <td>-0.004279</td>\n",
       "      <td>0.300959</td>\n",
       "    </tr>\n",
       "    <tr>\n",
       "      <th>ETA_Month</th>\n",
       "      <td>-0.114431</td>\n",
       "      <td>0.018078</td>\n",
       "      <td>0.007841</td>\n",
       "      <td>0.010631</td>\n",
       "      <td>0.208921</td>\n",
       "      <td>-0.687369</td>\n",
       "      <td>1.000000</td>\n",
       "      <td>-0.016893</td>\n",
       "      <td>-0.021412</td>\n",
       "      <td>-0.038607</td>\n",
       "      <td>0.044926</td>\n",
       "    </tr>\n",
       "    <tr>\n",
       "      <th>ETA_Day</th>\n",
       "      <td>-0.068592</td>\n",
       "      <td>-0.020140</td>\n",
       "      <td>-0.045059</td>\n",
       "      <td>-0.011925</td>\n",
       "      <td>-0.002713</td>\n",
       "      <td>-0.021448</td>\n",
       "      <td>-0.016893</td>\n",
       "      <td>1.000000</td>\n",
       "      <td>0.045228</td>\n",
       "      <td>0.032516</td>\n",
       "      <td>-0.003978</td>\n",
       "    </tr>\n",
       "    <tr>\n",
       "      <th>ETA_Weekday</th>\n",
       "      <td>0.140045</td>\n",
       "      <td>0.063482</td>\n",
       "      <td>0.049497</td>\n",
       "      <td>-0.049604</td>\n",
       "      <td>0.003800</td>\n",
       "      <td>0.067647</td>\n",
       "      <td>-0.021412</td>\n",
       "      <td>0.045228</td>\n",
       "      <td>1.000000</td>\n",
       "      <td>-0.023286</td>\n",
       "      <td>0.106013</td>\n",
       "    </tr>\n",
       "    <tr>\n",
       "      <th>ETA_Hour</th>\n",
       "      <td>-0.009393</td>\n",
       "      <td>0.159799</td>\n",
       "      <td>0.062235</td>\n",
       "      <td>-0.016479</td>\n",
       "      <td>0.066587</td>\n",
       "      <td>-0.004279</td>\n",
       "      <td>-0.038607</td>\n",
       "      <td>0.032516</td>\n",
       "      <td>-0.023286</td>\n",
       "      <td>1.000000</td>\n",
       "      <td>-0.046357</td>\n",
       "    </tr>\n",
       "    <tr>\n",
       "      <th>new_cases</th>\n",
       "      <td>0.128044</td>\n",
       "      <td>-0.009551</td>\n",
       "      <td>-0.028814</td>\n",
       "      <td>-0.039625</td>\n",
       "      <td>0.187386</td>\n",
       "      <td>0.300959</td>\n",
       "      <td>0.044926</td>\n",
       "      <td>-0.003978</td>\n",
       "      <td>0.106013</td>\n",
       "      <td>-0.046357</td>\n",
       "      <td>1.000000</td>\n",
       "    </tr>\n",
       "  </tbody>\n",
       "</table>\n",
       "</div>"
      ],
      "text/plain": [
       "                         Delay      Size  Built_Year  Built_Month  \\\n",
       "Delay                 1.000000  0.087152    0.097646     0.008392   \n",
       "Size                  0.087152  1.000000    0.732369    -0.085304   \n",
       "Built_Year            0.097646  0.732369    1.000000    -0.058841   \n",
       "Built_Month           0.008392 -0.085304   -0.058841     1.000000   \n",
       "Days_Before_ETA_Info  0.175165  0.209906    0.102188     0.010697   \n",
       "ETA_Year              0.112284 -0.078108   -0.105458    -0.024297   \n",
       "ETA_Month            -0.114431  0.018078    0.007841     0.010631   \n",
       "ETA_Day              -0.068592 -0.020140   -0.045059    -0.011925   \n",
       "ETA_Weekday           0.140045  0.063482    0.049497    -0.049604   \n",
       "ETA_Hour             -0.009393  0.159799    0.062235    -0.016479   \n",
       "new_cases             0.128044 -0.009551   -0.028814    -0.039625   \n",
       "\n",
       "                      Days_Before_ETA_Info  ETA_Year  ETA_Month   ETA_Day  \\\n",
       "Delay                             0.175165  0.112284  -0.114431 -0.068592   \n",
       "Size                              0.209906 -0.078108   0.018078 -0.020140   \n",
       "Built_Year                        0.102188 -0.105458   0.007841 -0.045059   \n",
       "Built_Month                       0.010697 -0.024297   0.010631 -0.011925   \n",
       "Days_Before_ETA_Info              1.000000 -0.086272   0.208921 -0.002713   \n",
       "ETA_Year                         -0.086272  1.000000  -0.687369 -0.021448   \n",
       "ETA_Month                         0.208921 -0.687369   1.000000 -0.016893   \n",
       "ETA_Day                          -0.002713 -0.021448  -0.016893  1.000000   \n",
       "ETA_Weekday                       0.003800  0.067647  -0.021412  0.045228   \n",
       "ETA_Hour                          0.066587 -0.004279  -0.038607  0.032516   \n",
       "new_cases                         0.187386  0.300959   0.044926 -0.003978   \n",
       "\n",
       "                      ETA_Weekday  ETA_Hour  new_cases  \n",
       "Delay                    0.140045 -0.009393   0.128044  \n",
       "Size                     0.063482  0.159799  -0.009551  \n",
       "Built_Year               0.049497  0.062235  -0.028814  \n",
       "Built_Month             -0.049604 -0.016479  -0.039625  \n",
       "Days_Before_ETA_Info     0.003800  0.066587   0.187386  \n",
       "ETA_Year                 0.067647 -0.004279   0.300959  \n",
       "ETA_Month               -0.021412 -0.038607   0.044926  \n",
       "ETA_Day                  0.045228  0.032516  -0.003978  \n",
       "ETA_Weekday              1.000000 -0.023286   0.106013  \n",
       "ETA_Hour                -0.023286  1.000000  -0.046357  \n",
       "new_cases                0.106013 -0.046357   1.000000  "
      ]
     },
     "execution_count": 11,
     "metadata": {},
     "output_type": "execute_result"
    }
   ],
   "source": [
    "df[['Delay','Size','Built_Year','Built_Month','Days_Before_ETA_Info','ETA_Year','ETA_Month','ETA_Day','ETA_Weekday','ETA_Hour','new_cases' ]].corr()"
   ]
  },
  {
   "cell_type": "code",
   "execution_count": 12,
   "metadata": {},
   "outputs": [
    {
     "data": {
      "text/plain": [
       "<seaborn.axisgrid.FacetGrid at 0x22c80476a60>"
      ]
     },
     "execution_count": 12,
     "metadata": {},
     "output_type": "execute_result"
    },
    {
     "data": {
      "image/png": "[encoded data removed]",
      "text/plain": [
       "<Figure size 360x360 with 1 Axes>"
      ]
     },
     "metadata": {
      "needs_background": "light"
     },
     "output_type": "display_data"
    }
   ],
   "source": [
    "sns.displot(df, x=\"Days_Before_ETA_Info\",binwidth=5)\n",
    "\n"
   ]
  },
  {
   "cell_type": "code",
   "execution_count": 13,
   "metadata": {},
   "outputs": [],
   "source": [
    "# Only using Days fore ETA 10days\n",
    "#df=df.loc[df['Days_Before_ETA_Info'] < 21]\n",
    "#df=df.loc[df['Delay'] > -1]\n"
   ]
  },
  {
   "cell_type": "markdown",
   "metadata": {},
   "source": [
    "# Converting Delay to Catagorical"
   ]
  },
  {
   "cell_type": "code",
   "execution_count": 14,
   "metadata": {},
   "outputs": [],
   "source": [
    "#add a new column category next to the age group. \n",
    "#'''\n",
    "#For 3 Class\n",
    "Delay_Cat = pd.cut(df.Delay,bins=[-9999,-12,12,9999],labels=['Early','OnTime','Late'])\n",
    "\n",
    "#For 2 Class\n",
    "#Delay_Cat = pd.cut(df.Delay,bins=[-9999,24,9999],labels=['OnTime','Late'])\n",
    "\n",
    "df.insert(4,'Delay_Cat',Delay_Cat)\n",
    "df.drop(['Delay'] ,axis=1, inplace=True)\n",
    "df = df.rename(columns={'Delay_Cat': 'Delay'})\n",
    "df['Delay']=df['Delay'].astype('category')\n",
    "\n",
    "del Delay_Cat\n",
    "#'''"
   ]
  },
  {
   "cell_type": "code",
   "execution_count": 15,
   "metadata": {},
   "outputs": [
    {
     "data": {
      "text/plain": [
       "<seaborn.axisgrid.FacetGrid at 0x22c804f57f0>"
      ]
     },
     "execution_count": 15,
     "metadata": {},
     "output_type": "execute_result"
    },
    {
     "data": {
      "image/png": "[encoded data removed]",
      "text/plain": [
       "<Figure size 360x360 with 1 Axes>"
      ]
     },
     "metadata": {
      "needs_background": "light"
     },
     "output_type": "display_data"
    }
   ],
   "source": [
    "sns.displot(df, x=\"Delay\",binwidth=1)"
   ]
  },
  {
   "cell_type": "code",
   "execution_count": 16,
   "metadata": {},
   "outputs": [
    {
     "data": {
      "text/plain": [
       "<AxesSubplot:xlabel='Delay', ylabel='Size'>"
      ]
     },
     "execution_count": 16,
     "metadata": {},
     "output_type": "execute_result"
    },
    {
     "data": {
      "image/png": "[encoded data removed]",
      "text/plain": [
       "<Figure size 1224x792 with 1 Axes>"
      ]
     },
     "metadata": {
      "needs_background": "light"
     },
     "output_type": "display_data"
    }
   ],
   "source": [
    "my_order = df.groupby(\"Delay\")[\"Size\"].mean().fillna(0).sort_values()[::-1].index\n",
    "%matplotlib inline\n",
    "plt.figure(figsize=(17, 11))\n",
    "\n",
    "sns.boxplot(x=\"Delay\",\n",
    "           y=\"Size\",\n",
    "           data=df,\n",
    "           order=my_order\n",
    "            )"
   ]
  },
  {
   "cell_type": "markdown",
   "metadata": {},
   "source": [
    "# Normalizing Continious Data"
   ]
  },
  {
   "cell_type": "code",
   "execution_count": 17,
   "metadata": {},
   "outputs": [],
   "source": [
    "df['Size'] = (df['Size'] - df['Size'].min()) / (df['Size'].max()- df['Size'].min())\n",
    "\n",
    "df['Days_Before_ETA_Info'] = (df['Days_Before_ETA_Info'] - df['Days_Before_ETA_Info'].min()) / (df['Days_Before_ETA_Info'].max()- df['Days_Before_ETA_Info'].min())\n",
    "\n",
    "df['new_cases'] = (df['new_cases'] - df['new_cases'].min()) / (df['new_cases'].max()- df['new_cases'].min())\n",
    "\n"
   ]
  },
  {
   "cell_type": "code",
   "execution_count": 18,
   "metadata": {},
   "outputs": [],
   "source": [
    "#from feature_engine.creation import CyclicalTransformer\n",
    "#cyclical = CyclicalTransformer(variables=None, drop_original=False)\n",
    "#abc = cyclical.fit_transform(df[['ETA_Month']])\n",
    "df['ETA_Month_sin'] = np.sin(2 * np.pi * df['ETA_Month']/12.0)\n",
    "df['ETA_Month_cos'] = np.cos(2 * np.pi * df['ETA_Month']/12.0)\n",
    "\n",
    "df['ETA_Weekday_sin'] = np.sin(2 * np.pi * df['ETA_Weekday']/7.0)\n",
    "df['ETA_Weekday_cos'] = np.cos(2 * np.pi * df['ETA_Weekday']/7.0)\n",
    "\n",
    "df['ETA_Hour_sin'] = np.sin(2 * np.pi * df['ETA_Hour']/24.0)\n",
    "df['ETA_Hour_cos'] = np.cos(2 * np.pi * df['ETA_Hour']/24.0)\n",
    "\n",
    "df['Built_Month_sin'] = np.sin(2 * np.pi * df['Built_Month']/12.0)\n",
    "df['Built_Month_cos'] = np.cos(2 * np.pi * df['Built_Month']/12.0)\n",
    "\n",
    "df['ETA_Day_sin'] = np.sin(2 * np.pi * df['ETA_Day']/31)\n",
    "df['ETA_Day_cos'] = np.cos(2 * np.pi * df['ETA_Day']/31)\n",
    "\n",
    "\n"
   ]
  },
  {
   "cell_type": "code",
   "execution_count": 19,
   "metadata": {},
   "outputs": [],
   "source": [
    "#Without Cos And Sin\n",
    "df=df[['Delay', 'Size', 'Days_Before_ETA_Info', 'new_cases', 'ETA_Year', 'ETA_Month', 'ETA_Weekday','ETA_Day', 'ETA_Hour', 'Built_Year', 'Built_Month', 'Alternative_Fuel', 'SOx_Scrubber', 'Eco_Engine', 'Vessel_Name','Service',  'Builder', 'Owner', 'Flag', 'Berth', 'Side','NextPort']]\n",
    "\n",
    "##For Cosine\n",
    "#df=df[['Delay', 'Size', 'Days_Before_ETA_Info', 'new_cases', 'ETA_Year', 'ETA_Month_sin','ETA_Month_cos', 'ETA_Weekday_sin','ETA_Weekday_cos','ETA_Day_sin', 'ETA_Day_cos','ETA_Hour_sin','ETA_Hour_cos', 'Built_Year', 'Built_Month_sin', 'Built_Month_cos','Alternative_Fuel', 'SOx_Scrubber', 'Eco_Engine', 'Vessel_Name','Service',  'Builder', 'Owner', 'Flag', 'Berth', 'Side','NextPort']]"
   ]
  },
  {
   "cell_type": "markdown",
   "metadata": {},
   "source": [
    "# Converting DF to Label Encoding"
   ]
  },
  {
   "cell_type": "code",
   "execution_count": 20,
   "metadata": {},
   "outputs": [],
   "source": [
    "df_Lab_enc=df.copy()\n",
    "\n",
    "#Selecting Only Catogorail Varible to label encode\n",
    "Attribute_Name = ['Vessel_Name','Service',  'Builder', 'Owner', 'Flag', 'Berth', 'Side','NextPort']\n",
    "\n",
    "\n",
    "label_encoder = preprocessing.LabelEncoder()\n",
    "for name in Attribute_Name:\n",
    "    df_Lab_enc[name]= label_encoder.fit_transform(df_Lab_enc[name])\n",
    "\n",
    "#Attributes to keep for DT and RF Models\n",
    "\n",
    "\n",
    "df_Lab_enc=df_Lab_enc[['Delay', 'Size', 'Days_Before_ETA_Info', 'new_cases', 'ETA_Year', 'ETA_Month', 'ETA_Weekday','ETA_Day', 'ETA_Hour', 'Built_Year', 'Built_Month', 'Alternative_Fuel', 'SOx_Scrubber', 'Eco_Engine', 'Vessel_Name','Service',  'Builder', 'Owner', 'Flag', 'Berth', 'Side','NextPort']]\n",
    "\n",
    "#For Cosine\n",
    "#df_Lab_enc=df_Lab_enc[['Delay', 'Size', 'Days_Before_ETA_Info', 'new_cases', 'ETA_Year', 'ETA_Month_sin','ETA_Month_cos', 'ETA_Weekday_sin','ETA_Weekday_cos','ETA_Day_sin', 'ETA_Day_cos','ETA_Hour_sin','ETA_Hour_cos', 'Built_Year', 'Built_Month_sin', 'Built_Month_cos','Alternative_Fuel', 'SOx_Scrubber', 'Eco_Engine', 'Vessel_Name','Service',  'Builder', 'Owner', 'Flag', 'Berth', 'Side','NextPort']]\n",
    "\n",
    "#df Optimised\n",
    "#df_Lab_enc=df_Lab_enc[['Delay', 'Size', 'Days_Before_ETA_Info', 'new_cases', 'ETA_Month_sin','ETA_Month_cos', 'ETA_Weekday_sin','ETA_Weekday_cos','ETA_Day_sin', 'ETA_Day_cos', 'ETA_Hour_sin','ETA_Hour_cos', 'Owner','Service']]\n",
    "df_Lab_enc=df_Lab_enc[['Delay', 'Size', 'Days_Before_ETA_Info', 'new_cases', 'ETA_Month','ETA_Weekday','ETA_Day',  'ETA_Hour', 'Owner','NextPort','Service']]\n",
    "\n",
    "\n",
    "del Attribute_Name\n",
    "del label_encoder\n",
    "del name"
   ]
  },
  {
   "cell_type": "markdown",
   "metadata": {},
   "source": [
    "# Converting DF to One Hot Encoding"
   ]
  },
  {
   "cell_type": "code",
   "execution_count": 21,
   "metadata": {},
   "outputs": [],
   "source": [
    "df_OH_enc=df.copy()\n",
    "\n",
    "'''Attribute_Name = ['Service', 'Berth', 'Side', 'NextPort', 'Flag','Built_Year' ,'Built_Month','Builder', 'Owner', 'Alternative_Fuel', 'SOx_Scrubber', 'Eco_Engine' , 'ETA_Year', 'ETA_Month', 'ETA_Weekday', 'ETA_Hour']\n",
    "Attribute_Name = ['Service','Side','Builder','Owner','Alternative_Fuel','ETA_Year','ETA_Month','ETA_Weekday','ETA_Hour']\n",
    "df.drop(['Berth', 'NextPort','Flag','Built_Year' ,'Built_Month','SOx_Scrubber', 'Eco_Engine' ] ,axis=1, inplace=True)'''\n",
    "\n",
    "\n",
    "#Attributes to keep for DT and RF Models #Size and Days are Continus to no need to comvert them\n",
    "\n",
    "df_OH_enc=df_OH_enc[['Delay', 'Size', 'Days_Before_ETA_Info', 'new_cases', 'ETA_Year', 'ETA_Month', 'ETA_Weekday','ETA_Day', 'ETA_Hour', 'Built_Year', 'Built_Month', 'Alternative_Fuel', 'SOx_Scrubber', 'Eco_Engine', 'Vessel_Name','Service',  'Builder', 'Owner', 'Flag', 'Berth', 'Side','NextPort']]\n",
    "#For Cosine\n",
    "#df_OH_enc=df_OH_enc[['Delay', 'Size', 'Days_Before_ETA_Info', 'new_cases', 'ETA_Year', 'ETA_Month_sin','ETA_Month_cos', 'ETA_Weekday_sin','ETA_Weekday_cos','ETA_Day_sin', 'ETA_Day_cos','ETA_Hour_sin','ETA_Hour_cos', 'Built_Year', 'Built_Month_sin', 'Built_Month_cos','Alternative_Fuel', 'SOx_Scrubber', 'Eco_Engine', 'Vessel_Name','Service',  'Builder', 'Owner', 'Flag', 'Berth', 'Side','NextPort']]\n",
    "\n",
    "Attribute_Name = ['ETA_Year', 'ETA_Month', 'ETA_Weekday','ETA_Day', 'ETA_Hour', 'Built_Year', 'Built_Month', 'Vessel_Name','Service',  'Builder', 'Owner', 'Flag', 'Berth', 'Side','NextPort',]\n",
    "\n",
    "#For Cosine\n",
    "#Attribute_Name = ['ETA_Year', 'Built_Year', 'Vessel_Name','Service',  'Builder', 'Owner', 'Flag', 'Berth', 'Side','NextPort',] # 'Built_Year' ,'Built_Month','ETA_Year', 'ETA_Month', 'ETA_Hour', 'ETA_Weekday'\n",
    "\n",
    "#DF and trribute Optimized\n",
    "#df_OH_enc=df_OH_enc[['Delay', 'Size', 'Days_Before_ETA_Info', 'new_cases', 'ETA_Month_sin','ETA_Month_cos', 'ETA_Weekday_sin','ETA_Weekday_cos','ETA_Day_sin', 'ETA_Day_cos', 'ETA_Hour_sin','ETA_Hour_cos', 'Owner','Service']]\n",
    "df_OH_enc=df_OH_enc[['Delay', 'Size', 'Days_Before_ETA_Info', 'new_cases', 'ETA_Month', 'ETA_Weekday','ETA_Day',  'ETA_Hour', 'Owner','NextPort','Service']]\n",
    "\n",
    "Attribute_Name = ['ETA_Month', 'ETA_Weekday','ETA_Day',  'ETA_Hour','Owner','NextPort','Service']\n",
    "\n",
    "\n",
    "for name in Attribute_Name:\n",
    "    # Get one hot encoding of columns B\n",
    "    one_hot = pd.get_dummies(df_OH_enc[name],prefix=name)\n",
    "    # Drop column B as it is now encoded\n",
    "    df_OH_enc = df_OH_enc.drop(name,axis = 1)\n",
    "    # Join the encoded df\n",
    "    df_OH_enc = df_OH_enc.join(one_hot)\n",
    "\n",
    "del Attribute_Name,name,one_hot"
   ]
  },
  {
   "cell_type": "markdown",
   "metadata": {},
   "source": [
    "# Model Testing"
   ]
  },
  {
   "cell_type": "code",
   "execution_count": 22,
   "metadata": {},
   "outputs": [],
   "source": [
    "from sklearn.model_selection import cross_val_score\n",
    "from sklearn.model_selection import cross_val_predict\n",
    "from sklearn.model_selection import cross_validate\n",
    "\n",
    "testsize=0.3\n",
    "rnseed=1\n"
   ]
  },
  {
   "cell_type": "markdown",
   "metadata": {},
   "source": [
    "# Decision Tree\n"
   ]
  },
  {
   "cell_type": "code",
   "execution_count": 23,
   "metadata": {},
   "outputs": [
    {
     "name": "stderr",
     "output_type": "stream",
     "text": [
      "C:\\Users\\LordXavier\\AppData\\Local\\Programs\\Python\\Python39\\lib\\site-packages\\sklearn\\metrics\\_classification.py:1308: UndefinedMetricWarning: Precision is ill-defined and being set to 0.0 in labels with no predicted samples. Use `zero_division` parameter to control this behavior.\n",
      "  _warn_prf(average, modifier, msg_start, len(result))\n"
     ]
    },
    {
     "data": {
      "text/plain": [
       "0.37233204667944764"
      ]
     },
     "execution_count": 23,
     "metadata": {},
     "output_type": "execute_result"
    }
   ],
   "source": [
    "from sklearn.model_selection import train_test_split\n",
    "from sklearn import tree\n",
    "\n",
    "x=df_Lab_enc.drop('Delay',axis=1)\n",
    "y=df_Lab_enc['Delay']\n",
    "\n",
    "x_train, x_test, y_train, y_test = train_test_split(x, y, test_size = testsize, random_state = rnseed)\n",
    "\n",
    "dt = tree.DecisionTreeClassifier(random_state = 0)\n",
    "\n",
    "dt = dt.fit(x, y)\n",
    "\n",
    "'''\n",
    "y_pred = dt.predict(x_test)\n",
    "\n",
    "y_pred_train=dt.predict(x_train)\n",
    "\n",
    "\n",
    "#----------------------------------\n",
    "\n",
    "#Evaluating the Algorithm\n",
    "\n",
    "print(\"Train Data:\")\n",
    "print('Accuracy:', metrics.accuracy_score(y_train, y_pred_train))\n",
    "#----------------\n",
    "print(\"Test Data:\")\n",
    "print('Accuracy:', metrics.accuracy_score(y_test, y_pred))\n",
    "'''\n",
    "Total_results=[]\n",
    "Total_results_f1=[]\n",
    "name=[]\n",
    "scoring = ['accuracy','f1_macro','precision_macro', 'recall_macro']\n",
    "\n",
    "results=cross_validate(dt,x,y,cv=10, scoring=scoring)\n",
    "Total_results.append(results)\n",
    "name.append('DT')\n",
    "results['test_f1_macro'].mean()\n",
    "#print('accuracy :', results_acc['test_accuracy'].mean())\n",
    "#print('accuracy :', results_acc['test_f1_macro'].mean())\n"
   ]
  },
  {
   "cell_type": "code",
   "execution_count": null,
   "metadata": {},
   "outputs": [],
   "source": []
  },
  {
   "cell_type": "code",
   "execution_count": 24,
   "metadata": {},
   "outputs": [],
   "source": [
    "#result=cross_val_score(svm.SVC(kernel='rbf', gamma=0.7, C = 1.0), X, y,  scoring=make_scorer(f1_score, average='weighted', labels=[2]),  cv=10)"
   ]
  },
  {
   "cell_type": "code",
   "execution_count": 25,
   "metadata": {},
   "outputs": [
    {
     "data": {
      "text/plain": [
       "<AxesSubplot:>"
      ]
     },
     "execution_count": 25,
     "metadata": {},
     "output_type": "execute_result"
    },
    {
     "data": {
      "image/png": "[encoded data removed]",
      "text/plain": [
       "<Figure size 432x288 with 1 Axes>"
      ]
     },
     "metadata": {
      "needs_background": "light"
     },
     "output_type": "display_data"
    }
   ],
   "source": [
    "feat_importances = pd.Series(dt.feature_importances_, index=x.columns)\n",
    "feat_importances.nlargest(99).plot(kind='barh')"
   ]
  },
  {
   "cell_type": "markdown",
   "metadata": {},
   "source": [
    "# Random Forest"
   ]
  },
  {
   "cell_type": "code",
   "execution_count": 26,
   "metadata": {},
   "outputs": [
    {
     "name": "stdout",
     "output_type": "stream",
     "text": [
      "Train Data:\n",
      "Accuracy: 1.0\n",
      "Test Data:\n",
      "Accuracy: 1.0\n"
     ]
    },
    {
     "name": "stderr",
     "output_type": "stream",
     "text": [
      "C:\\Users\\LordXavier\\AppData\\Local\\Programs\\Python\\Python39\\lib\\site-packages\\sklearn\\metrics\\_classification.py:1308: UndefinedMetricWarning: Precision is ill-defined and being set to 0.0 in labels with no predicted samples. Use `zero_division` parameter to control this behavior.\n",
      "  _warn_prf(average, modifier, msg_start, len(result))\n",
      "C:\\Users\\LordXavier\\AppData\\Local\\Programs\\Python\\Python39\\lib\\site-packages\\sklearn\\metrics\\_classification.py:1308: UndefinedMetricWarning: Precision is ill-defined and being set to 0.0 in labels with no predicted samples. Use `zero_division` parameter to control this behavior.\n",
      "  _warn_prf(average, modifier, msg_start, len(result))\n",
      "C:\\Users\\LordXavier\\AppData\\Local\\Programs\\Python\\Python39\\lib\\site-packages\\sklearn\\metrics\\_classification.py:1308: UndefinedMetricWarning: Precision is ill-defined and being set to 0.0 in labels with no predicted samples. Use `zero_division` parameter to control this behavior.\n",
      "  _warn_prf(average, modifier, msg_start, len(result))\n",
      "C:\\Users\\LordXavier\\AppData\\Local\\Programs\\Python\\Python39\\lib\\site-packages\\sklearn\\metrics\\_classification.py:1308: UndefinedMetricWarning: Precision is ill-defined and being set to 0.0 in labels with no predicted samples. Use `zero_division` parameter to control this behavior.\n",
      "  _warn_prf(average, modifier, msg_start, len(result))\n",
      "C:\\Users\\LordXavier\\AppData\\Local\\Programs\\Python\\Python39\\lib\\site-packages\\sklearn\\metrics\\_classification.py:1308: UndefinedMetricWarning: Precision is ill-defined and being set to 0.0 in labels with no predicted samples. Use `zero_division` parameter to control this behavior.\n",
      "  _warn_prf(average, modifier, msg_start, len(result))\n",
      "C:\\Users\\LordXavier\\AppData\\Local\\Programs\\Python\\Python39\\lib\\site-packages\\sklearn\\metrics\\_classification.py:1308: UndefinedMetricWarning: Precision is ill-defined and being set to 0.0 in labels with no predicted samples. Use `zero_division` parameter to control this behavior.\n",
      "  _warn_prf(average, modifier, msg_start, len(result))\n",
      "C:\\Users\\LordXavier\\AppData\\Local\\Programs\\Python\\Python39\\lib\\site-packages\\sklearn\\metrics\\_classification.py:1308: UndefinedMetricWarning: Precision is ill-defined and being set to 0.0 in labels with no predicted samples. Use `zero_division` parameter to control this behavior.\n",
      "  _warn_prf(average, modifier, msg_start, len(result))\n",
      "C:\\Users\\LordXavier\\AppData\\Local\\Programs\\Python\\Python39\\lib\\site-packages\\sklearn\\metrics\\_classification.py:1308: UndefinedMetricWarning: Precision is ill-defined and being set to 0.0 in labels with no predicted samples. Use `zero_division` parameter to control this behavior.\n",
      "  _warn_prf(average, modifier, msg_start, len(result))\n",
      "C:\\Users\\LordXavier\\AppData\\Local\\Programs\\Python\\Python39\\lib\\site-packages\\sklearn\\metrics\\_classification.py:1308: UndefinedMetricWarning: Precision is ill-defined and being set to 0.0 in labels with no predicted samples. Use `zero_division` parameter to control this behavior.\n",
      "  _warn_prf(average, modifier, msg_start, len(result))\n"
     ]
    },
    {
     "data": {
      "text/plain": [
       "0.4096573087576025"
      ]
     },
     "execution_count": 26,
     "metadata": {},
     "output_type": "execute_result"
    }
   ],
   "source": [
    "from sklearn.model_selection import train_test_split\n",
    "from sklearn.ensemble import RandomForestClassifier\n",
    "\n",
    "\n",
    "x = df_Lab_enc.drop('Delay',axis=1)\n",
    "\n",
    "y = df_Lab_enc['Delay']\n",
    "\n",
    "\n",
    "\n",
    "x_train, x_test, y_train, y_test = train_test_split(x, y, test_size = testsize, random_state = rnseed)\n",
    "\n",
    "rf = RandomForestClassifier(n_estimators = 100, random_state = 0)\n",
    "\n",
    "rf.fit(x, y)\n",
    "\n",
    "y_pred = rf.predict(x_test)\n",
    "\n",
    "y_pred_train=rf.predict(x_train)\n",
    "\n",
    "\n",
    "#Evaluating the Algorithm\n",
    "print(\"Train Data:\")\n",
    "print('Accuracy:', metrics.accuracy_score(y_train, y_pred_train))\n",
    "#----------------\n",
    "print(\"Test Data:\")\n",
    "print('Accuracy:', metrics.accuracy_score(y_test, y_pred))\n",
    "\n",
    "#print('accuracy :', cross_val_score(rf,x,y,cv=10, scoring='accuracy').mean())\n",
    "#print('f1 :', cross_val_score(rf,x,y,cv=10, scoring='f1_macro').mean())\n",
    "\n",
    "\n",
    "results=cross_validate(rf,x,y,cv=10, scoring=scoring)\n",
    "Total_results.append(results)\n",
    "name.append('RF')\n",
    "results['test_f1_macro'].mean()\n"
   ]
  },
  {
   "cell_type": "code",
   "execution_count": 27,
   "metadata": {},
   "outputs": [
    {
     "name": "stdout",
     "output_type": "stream",
     "text": [
      "Confusion Matrix\n",
      "\n",
      "[[ 16   0   0]\n",
      " [  0 149   0]\n",
      " [  0   0  98]]\n",
      "\n",
      "Accuracy: 1.00\n",
      "\n",
      "Micro Precision: 1.00\n",
      "Micro Recall: 1.00\n",
      "Micro F1-score: 1.00\n",
      "\n",
      "Macro Precision: 1.00\n",
      "Macro Recall: 1.00\n",
      "Macro F1-score: 1.00\n",
      "\n",
      "Weighted Precision: 1.00\n",
      "Weighted Recall: 1.00\n",
      "Weighted F1-score: 1.00\n",
      "\n",
      "Classification Report\n",
      "\n",
      "              precision    recall  f1-score   support\n",
      "\n",
      "       Early       1.00      1.00      1.00        16\n",
      "        Late       1.00      1.00      1.00       149\n",
      "      OnTime       1.00      1.00      1.00        98\n",
      "\n",
      "    accuracy                           1.00       263\n",
      "   macro avg       1.00      1.00      1.00       263\n",
      "weighted avg       1.00      1.00      1.00       263\n",
      "\n"
     ]
    }
   ],
   "source": [
    "#importing confusion matrix\n",
    "from sklearn.metrics import confusion_matrix\n",
    "confusion = confusion_matrix(y_test, y_pred)\n",
    "print('Confusion Matrix\\n')\n",
    "print(confusion)\n",
    "\n",
    "#importing accuracy_score, precision_score, recall_score, f1_score\n",
    "from sklearn.metrics import accuracy_score, precision_score, recall_score, f1_score\n",
    "print('\\nAccuracy: {:.2f}\\n'.format(accuracy_score(y_test, y_pred)))\n",
    "\n",
    "print('Micro Precision: {:.2f}'.format(precision_score(y_test, y_pred, average='micro')))\n",
    "print('Micro Recall: {:.2f}'.format(recall_score(y_test, y_pred, average='micro')))\n",
    "print('Micro F1-score: {:.2f}\\n'.format(f1_score(y_test, y_pred, average='micro')))\n",
    "\n",
    "print('Macro Precision: {:.2f}'.format(precision_score(y_test, y_pred, average='macro')))\n",
    "print('Macro Recall: {:.2f}'.format(recall_score(y_test, y_pred, average='macro')))\n",
    "print('Macro F1-score: {:.2f}\\n'.format(f1_score(y_test, y_pred, average='macro')))\n",
    "\n",
    "print('Weighted Precision: {:.2f}'.format(precision_score(y_test, y_pred, average='weighted')))\n",
    "print('Weighted Recall: {:.2f}'.format(recall_score(y_test, y_pred, average='weighted')))\n",
    "print('Weighted F1-score: {:.2f}'.format(f1_score(y_test, y_pred, average='weighted')))\n",
    "\n",
    "from sklearn.metrics import classification_report\n",
    "print('\\nClassification Report\\n')\n",
    "print(classification_report(y_test, y_pred, target_names=['Early','Late', 'OnTime']))\n",
    "\n",
    "\n"
   ]
  },
  {
   "cell_type": "code",
   "execution_count": null,
   "metadata": {},
   "outputs": [],
   "source": []
  },
  {
   "cell_type": "code",
   "execution_count": 28,
   "metadata": {},
   "outputs": [
    {
     "data": {
      "text/plain": [
       "<AxesSubplot:>"
      ]
     },
     "execution_count": 28,
     "metadata": {},
     "output_type": "execute_result"
    },
    {
     "data": {
      "image/png": "[encoded data removed]",
      "text/plain": [
       "<Figure size 432x288 with 1 Axes>"
      ]
     },
     "metadata": {
      "needs_background": "light"
     },
     "output_type": "display_data"
    }
   ],
   "source": [
    "feat_importances = pd.Series(rf.feature_importances_, index=x.columns)\n",
    "feat_importances.nlargest(99).plot(kind='barh')"
   ]
  },
  {
   "cell_type": "markdown",
   "metadata": {},
   "source": [
    "# SVM"
   ]
  },
  {
   "cell_type": "code",
   "execution_count": 29,
   "metadata": {},
   "outputs": [
    {
     "name": "stderr",
     "output_type": "stream",
     "text": [
      "C:\\Users\\LordXavier\\AppData\\Local\\Programs\\Python\\Python39\\lib\\site-packages\\sklearn\\metrics\\_classification.py:1308: UndefinedMetricWarning: Precision is ill-defined and being set to 0.0 in labels with no predicted samples. Use `zero_division` parameter to control this behavior.\n",
      "  _warn_prf(average, modifier, msg_start, len(result))\n",
      "C:\\Users\\LordXavier\\AppData\\Local\\Programs\\Python\\Python39\\lib\\site-packages\\sklearn\\metrics\\_classification.py:1308: UndefinedMetricWarning: Precision is ill-defined and being set to 0.0 in labels with no predicted samples. Use `zero_division` parameter to control this behavior.\n",
      "  _warn_prf(average, modifier, msg_start, len(result))\n",
      "C:\\Users\\LordXavier\\AppData\\Local\\Programs\\Python\\Python39\\lib\\site-packages\\sklearn\\metrics\\_classification.py:1308: UndefinedMetricWarning: Precision is ill-defined and being set to 0.0 in labels with no predicted samples. Use `zero_division` parameter to control this behavior.\n",
      "  _warn_prf(average, modifier, msg_start, len(result))\n",
      "C:\\Users\\LordXavier\\AppData\\Local\\Programs\\Python\\Python39\\lib\\site-packages\\sklearn\\metrics\\_classification.py:1308: UndefinedMetricWarning: Precision is ill-defined and being set to 0.0 in labels with no predicted samples. Use `zero_division` parameter to control this behavior.\n",
      "  _warn_prf(average, modifier, msg_start, len(result))\n",
      "C:\\Users\\LordXavier\\AppData\\Local\\Programs\\Python\\Python39\\lib\\site-packages\\sklearn\\metrics\\_classification.py:1308: UndefinedMetricWarning: Precision is ill-defined and being set to 0.0 in labels with no predicted samples. Use `zero_division` parameter to control this behavior.\n",
      "  _warn_prf(average, modifier, msg_start, len(result))\n",
      "C:\\Users\\LordXavier\\AppData\\Local\\Programs\\Python\\Python39\\lib\\site-packages\\sklearn\\metrics\\_classification.py:1308: UndefinedMetricWarning: Precision is ill-defined and being set to 0.0 in labels with no predicted samples. Use `zero_division` parameter to control this behavior.\n",
      "  _warn_prf(average, modifier, msg_start, len(result))\n",
      "C:\\Users\\LordXavier\\AppData\\Local\\Programs\\Python\\Python39\\lib\\site-packages\\sklearn\\metrics\\_classification.py:1308: UndefinedMetricWarning: Precision is ill-defined and being set to 0.0 in labels with no predicted samples. Use `zero_division` parameter to control this behavior.\n",
      "  _warn_prf(average, modifier, msg_start, len(result))\n",
      "C:\\Users\\LordXavier\\AppData\\Local\\Programs\\Python\\Python39\\lib\\site-packages\\sklearn\\metrics\\_classification.py:1308: UndefinedMetricWarning: Precision is ill-defined and being set to 0.0 in labels with no predicted samples. Use `zero_division` parameter to control this behavior.\n",
      "  _warn_prf(average, modifier, msg_start, len(result))\n",
      "C:\\Users\\LordXavier\\AppData\\Local\\Programs\\Python\\Python39\\lib\\site-packages\\sklearn\\metrics\\_classification.py:1308: UndefinedMetricWarning: Precision is ill-defined and being set to 0.0 in labels with no predicted samples. Use `zero_division` parameter to control this behavior.\n",
      "  _warn_prf(average, modifier, msg_start, len(result))\n",
      "C:\\Users\\LordXavier\\AppData\\Local\\Programs\\Python\\Python39\\lib\\site-packages\\sklearn\\metrics\\_classification.py:1308: UndefinedMetricWarning: Precision is ill-defined and being set to 0.0 in labels with no predicted samples. Use `zero_division` parameter to control this behavior.\n",
      "  _warn_prf(average, modifier, msg_start, len(result))\n"
     ]
    },
    {
     "data": {
      "text/plain": [
       "0.3865980273839022"
      ]
     },
     "execution_count": 29,
     "metadata": {},
     "output_type": "execute_result"
    }
   ],
   "source": [
    "from sklearn.model_selection import train_test_split\n",
    "from sklearn import svm\n",
    "\n",
    "x=df_OH_enc.drop('Delay',axis=1)\n",
    "\n",
    "y=df_OH_enc['Delay']\n",
    "\n",
    "\n",
    "\n",
    "x_train, x_test, y_train, y_test = train_test_split(x, y, test_size = testsize, random_state = rnseed)\n",
    "\n",
    "svm_clf=svm.SVC(kernel='rbf')\n",
    "\n",
    "\n",
    "svm_clf.fit(x, y)\n",
    "\n",
    "'''\n",
    "y_pred = svm_clf.predict(x_test)\n",
    "y_pred_train = svm_clf.predict(x_train)\n",
    "\n",
    "#Evaluating the Algorithm\n",
    "print(\"Train Data:\")\n",
    "print('Accuracy:', metrics.accuracy_score(y_train, y_pred_train))\n",
    "#----------------\n",
    "print(\"Test Data:\")\n",
    "print('Accuracy:', metrics.accuracy_score(y_test, y_pred))\n",
    "\n",
    "print('accuracy :', cross_val_score(svm_clf,x,y,cv=10, scoring='accuracy').mean())\n",
    "print('f1 :', cross_val_score(svm_clf,x,y,cv=10, scoring='f1_macro').mean())\n",
    "'''\n",
    "results=cross_validate(svm_clf,x,y,cv=10, scoring=scoring)\n",
    "Total_results.append(results)\n",
    "name.append('SVM')\n",
    "results['test_f1_macro'].mean()\n",
    "\n"
   ]
  },
  {
   "cell_type": "code",
   "execution_count": null,
   "metadata": {},
   "outputs": [],
   "source": []
  },
  {
   "cell_type": "code",
   "execution_count": null,
   "metadata": {},
   "outputs": [],
   "source": []
  },
  {
   "cell_type": "markdown",
   "metadata": {},
   "source": [
    "# Neural Network - MLP"
   ]
  },
  {
   "cell_type": "code",
   "execution_count": 30,
   "metadata": {},
   "outputs": [
    {
     "name": "stderr",
     "output_type": "stream",
     "text": [
      "C:\\Users\\LordXavier\\AppData\\Local\\Programs\\Python\\Python39\\lib\\site-packages\\sklearn\\neural_network\\_multilayer_perceptron.py:692: ConvergenceWarning: Stochastic Optimizer: Maximum iterations (200) reached and the optimization hasn't converged yet.\n",
      "  warnings.warn(\n",
      "C:\\Users\\LordXavier\\AppData\\Local\\Programs\\Python\\Python39\\lib\\site-packages\\sklearn\\metrics\\_classification.py:1308: UndefinedMetricWarning: Precision is ill-defined and being set to 0.0 in labels with no predicted samples. Use `zero_division` parameter to control this behavior.\n",
      "  _warn_prf(average, modifier, msg_start, len(result))\n",
      "C:\\Users\\LordXavier\\AppData\\Local\\Programs\\Python\\Python39\\lib\\site-packages\\sklearn\\neural_network\\_multilayer_perceptron.py:692: ConvergenceWarning: Stochastic Optimizer: Maximum iterations (200) reached and the optimization hasn't converged yet.\n",
      "  warnings.warn(\n",
      "C:\\Users\\LordXavier\\AppData\\Local\\Programs\\Python\\Python39\\lib\\site-packages\\sklearn\\metrics\\_classification.py:1308: UndefinedMetricWarning: Precision is ill-defined and being set to 0.0 in labels with no predicted samples. Use `zero_division` parameter to control this behavior.\n",
      "  _warn_prf(average, modifier, msg_start, len(result))\n"
     ]
    },
    {
     "data": {
      "text/plain": [
       "0.32849506113729837"
      ]
     },
     "execution_count": 30,
     "metadata": {},
     "output_type": "execute_result"
    }
   ],
   "source": [
    "\n",
    "from sklearn.model_selection import train_test_split\n",
    "from sklearn.neural_network import MLPClassifier\n",
    "\n",
    "x=df_OH_enc.drop('Delay',axis=1)\n",
    "y=df_OH_enc['Delay']\n",
    "\n",
    "x_train, x_test, y_train, y_test = train_test_split(x, y, test_size = testsize, random_state = rnseed)\n",
    "\n",
    "mlp = MLPClassifier(hidden_layer_sizes=(1), activation='relu', solver='adam') #50,25,10,5\n",
    "\n",
    "'''\n",
    "mlp.fit(x_train, y_train) \n",
    "\n",
    "y_pred = mlp.predict(x_test)\n",
    "y_pred_train = mlp.predict(x_train)\n",
    "\n",
    "#Evaluating the Algorithm\n",
    "print(\"Train Data:\")\n",
    "print('Accuracy:', metrics.accuracy_score(y_train, y_pred_train))\n",
    "#----------------\n",
    "print(\"Test Data:\")\n",
    "print('Accuracy:', metrics.accuracy_score(y_test, y_pred))\n",
    "\n",
    "scores = cross_val_score(mlp,x,y,cv=10)\n",
    "'''\n",
    "results=cross_validate(mlp,x,y,cv=2, scoring=scoring)\n",
    "Total_results.append(results)\n",
    "name.append('NN')\n",
    "results['test_f1_macro'].mean()"
   ]
  },
  {
   "cell_type": "code",
   "execution_count": 31,
   "metadata": {},
   "outputs": [
    {
     "name": "stdout",
     "output_type": "stream",
     "text": [
      "DT\n",
      "Accuracy 0.5067006269592476\n",
      "Precision 0.3909370303273829\n",
      "Recall 0.39034162324603494\n",
      "F1 0.37233204667944764 \n",
      "\n",
      "RF\n",
      "Accuracy 0.6301854754440962\n",
      "Precision 0.4201279202541926\n",
      "Recall 0.4283692410530646\n",
      "F1 0.4096573087576025 \n",
      "\n",
      "SVM\n",
      "Accuracy 0.6210553814002089\n",
      "Precision 0.4015943041817779\n",
      "Recall 0.40881324557795146\n",
      "F1 0.3865980273839022 \n",
      "\n",
      "NN\n",
      "Accuracy 0.5936073059360731\n",
      "Precision 0.30243529674252567\n",
      "Recall 0.36989615483539096\n",
      "F1 0.32849506113729837 \n",
      "\n"
     ]
    }
   ],
   "source": [
    "graph_accu_accuracy=[]\n",
    "graph_accu_f1=[]\n",
    "for i in range(4):\n",
    "    print(name[i])\n",
    "    print('Accuracy',Total_results[i]['test_accuracy'].mean())\n",
    "    print('Precision',Total_results[i]['test_precision_macro'].mean())\n",
    "    print('Recall',Total_results[i]['test_recall_macro'].mean())\n",
    "    print('F1',Total_results[i]['test_f1_macro'].mean(),'\\n')\n",
    "\n",
    "    graph_accu_accuracy.append(Total_results[i]['test_accuracy'])\n",
    "    graph_accu_f1.append(Total_results[i]['test_f1_macro'])\n",
    "    \n",
    "    \n",
    "    \n",
    "    "
   ]
  },
  {
   "cell_type": "code",
   "execution_count": null,
   "metadata": {},
   "outputs": [],
   "source": []
  },
  {
   "cell_type": "code",
   "execution_count": 32,
   "metadata": {},
   "outputs": [
    {
     "data": {
      "image/png": "[encoded data removed]",
      "text/plain": [
       "<Figure size 432x288 with 1 Axes>"
      ]
     },
     "metadata": {
      "needs_background": "light"
     },
     "output_type": "display_data"
    }
   ],
   "source": [
    "# boxplot algorithm comparison\n",
    "fig = plt.figure() #figsize=(10, 10)\n",
    "fig.suptitle('Algorithm Comparison \\n Accuracy')\n",
    "\n",
    "ax = fig.add_subplot(111)\n",
    "plt.boxplot(graph_accu_accuracy)\n",
    "ax.set_xticklabels(name)\n",
    "plt.show()"
   ]
  },
  {
   "cell_type": "code",
   "execution_count": 33,
   "metadata": {},
   "outputs": [
    {
     "data": {
      "image/png": "[encoded data removed]",
      "text/plain": [
       "<Figure size 432x288 with 1 Axes>"
      ]
     },
     "metadata": {
      "needs_background": "light"
     },
     "output_type": "display_data"
    }
   ],
   "source": [
    "# boxplot algorithm comparison\n",
    "fig = plt.figure() #figsize=(10, 10)\n",
    "fig.suptitle('Algorithm Comparison \\n Macro F1 Score')\n",
    "\n",
    "ax = fig.add_subplot(111)\n",
    "plt.boxplot(graph_accu_f1)\n",
    "ax.set_xticklabels(name)\n",
    "plt.show()"
   ]
  },
  {
   "cell_type": "code",
   "execution_count": 34,
   "metadata": {},
   "outputs": [],
   "source": [
    "#sns.boxplot(x=[graph_accu[0],graph_accu[1]] )"
   ]
  },
  {
   "cell_type": "code",
   "execution_count": 35,
   "metadata": {},
   "outputs": [
    {
     "name": "stdout",
     "output_type": "stream",
     "text": [
      "Confusion Matrix\n",
      "\n",
      "[[ 16   0   0]\n",
      " [  0 149   0]\n",
      " [  0   0  98]]\n",
      "\n",
      "Accuracy: 1.00\n",
      "\n",
      "Micro Precision: 1.00\n",
      "Micro Recall: 1.00\n",
      "Micro F1-score: 1.00\n",
      "\n",
      "Macro Precision: 1.00\n",
      "Macro Recall: 1.00\n",
      "Macro F1-score: 1.00\n",
      "\n",
      "Weighted Precision: 1.00\n",
      "Weighted Recall: 1.00\n",
      "Weighted F1-score: 1.00\n",
      "\n",
      "Classification Report\n",
      "\n",
      "              precision    recall  f1-score   support\n",
      "\n",
      "       Early       1.00      1.00      1.00        16\n",
      "        Late       1.00      1.00      1.00       149\n",
      "      OnTime       1.00      1.00      1.00        98\n",
      "\n",
      "    accuracy                           1.00       263\n",
      "   macro avg       1.00      1.00      1.00       263\n",
      "weighted avg       1.00      1.00      1.00       263\n",
      "\n"
     ]
    }
   ],
   "source": [
    "#importing confusion matrix\n",
    "from sklearn.metrics import confusion_matrix\n",
    "confusion = confusion_matrix(y_test, y_pred)\n",
    "print('Confusion Matrix\\n')\n",
    "print(confusion)\n",
    "\n",
    "#importing accuracy_score, precision_score, recall_score, f1_score\n",
    "from sklearn.metrics import accuracy_score, precision_score, recall_score, f1_score\n",
    "print('\\nAccuracy: {:.2f}\\n'.format(accuracy_score(y_test, y_pred)))\n",
    "\n",
    "print('Micro Precision: {:.2f}'.format(precision_score(y_test, y_pred, average='micro')))\n",
    "print('Micro Recall: {:.2f}'.format(recall_score(y_test, y_pred, average='micro')))\n",
    "print('Micro F1-score: {:.2f}\\n'.format(f1_score(y_test, y_pred, average='micro')))\n",
    "\n",
    "print('Macro Precision: {:.2f}'.format(precision_score(y_test, y_pred, average='macro')))\n",
    "print('Macro Recall: {:.2f}'.format(recall_score(y_test, y_pred, average='macro')))\n",
    "print('Macro F1-score: {:.2f}\\n'.format(f1_score(y_test, y_pred, average='macro')))\n",
    "\n",
    "print('Weighted Precision: {:.2f}'.format(precision_score(y_test, y_pred, average='weighted')))\n",
    "print('Weighted Recall: {:.2f}'.format(recall_score(y_test, y_pred, average='weighted')))\n",
    "print('Weighted F1-score: {:.2f}'.format(f1_score(y_test, y_pred, average='weighted')))\n",
    "\n",
    "from sklearn.metrics import classification_report\n",
    "print('\\nClassification Report\\n')\n",
    "print(classification_report(y_test, y_pred, target_names=['Early', 'Late', 'OnTime']))"
   ]
  },
  {
   "cell_type": "markdown",
   "metadata": {},
   "source": [
    "# Regresor"
   ]
  },
  {
   "cell_type": "code",
   "execution_count": 36,
   "metadata": {},
   "outputs": [
    {
     "data": {
      "text/html": [
       "<div>\n",
       "<style scoped>\n",
       "    .dataframe tbody tr th:only-of-type {\n",
       "        vertical-align: middle;\n",
       "    }\n",
       "\n",
       "    .dataframe tbody tr th {\n",
       "        vertical-align: top;\n",
       "    }\n",
       "\n",
       "    .dataframe thead th {\n",
       "        text-align: right;\n",
       "    }\n",
       "</style>\n",
       "<table border=\"1\" class=\"dataframe\">\n",
       "  <thead>\n",
       "    <tr style=\"text-align: right;\">\n",
       "      <th>Predicted</th>\n",
       "      <th>Early</th>\n",
       "      <th>Late</th>\n",
       "      <th>OnTime</th>\n",
       "      <th>All</th>\n",
       "    </tr>\n",
       "    <tr>\n",
       "      <th>True</th>\n",
       "      <th></th>\n",
       "      <th></th>\n",
       "      <th></th>\n",
       "      <th></th>\n",
       "    </tr>\n",
       "  </thead>\n",
       "  <tbody>\n",
       "    <tr>\n",
       "      <th>Early</th>\n",
       "      <td>16</td>\n",
       "      <td>0</td>\n",
       "      <td>0</td>\n",
       "      <td>16</td>\n",
       "    </tr>\n",
       "    <tr>\n",
       "      <th>OnTime</th>\n",
       "      <td>0</td>\n",
       "      <td>0</td>\n",
       "      <td>98</td>\n",
       "      <td>98</td>\n",
       "    </tr>\n",
       "    <tr>\n",
       "      <th>Late</th>\n",
       "      <td>0</td>\n",
       "      <td>149</td>\n",
       "      <td>0</td>\n",
       "      <td>149</td>\n",
       "    </tr>\n",
       "    <tr>\n",
       "      <th>All</th>\n",
       "      <td>16</td>\n",
       "      <td>149</td>\n",
       "      <td>98</td>\n",
       "      <td>263</td>\n",
       "    </tr>\n",
       "  </tbody>\n",
       "</table>\n",
       "</div>"
      ],
      "text/plain": [
       "Predicted  Early  Late  OnTime  All\n",
       "True                               \n",
       "Early         16     0       0   16\n",
       "OnTime         0     0      98   98\n",
       "Late           0   149       0  149\n",
       "All           16   149      98  263"
      ]
     },
     "execution_count": 36,
     "metadata": {},
     "output_type": "execute_result"
    }
   ],
   "source": [
    "pd.crosstab(y_test, y_pred, rownames=['True'], colnames=['Predicted'], margins=True)"
   ]
  }
 ],
 "metadata": {
  "interpreter": {
   "hash": "234055e6463c59fef548f863acbd3083e6c1072752b8dc925adf2f10a3fa232d"
  },
  "kernelspec": {
   "display_name": "Python 3.9.7 64-bit",
   "name": "python3"
  },
  "language_info": {
   "codemirror_mode": {
    "name": "ipython",
    "version": 3
   },
   "file_extension": ".py",
   "mimetype": "text/x-python",
   "name": "python",
   "nbconvert_exporter": "python",
   "pygments_lexer": "ipython3",
   "version": "3.9.7"
  },
  "orig_nbformat": 4
 },
 "nbformat": 4,
 "nbformat_minor": 2
}
